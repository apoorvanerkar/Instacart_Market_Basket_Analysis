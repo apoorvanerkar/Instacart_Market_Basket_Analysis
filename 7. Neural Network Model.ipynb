{
 "cells": [
  {
   "cell_type": "markdown",
   "metadata": {},
   "source": [
    "# Modeling"
   ]
  },
  {
   "cell_type": "code",
   "execution_count": 2,
   "metadata": {},
   "outputs": [],
   "source": [
    "import numpy as np\n",
    "import pandas as pd\n",
    "import matplotlib.pyplot as plt\n",
    "import seaborn as sns\n",
    "import gc\n",
    "pd.options.mode.chained_assignment = None\n",
    "\n",
    "root = 'C:/Apoorva/Masters - Business Analytics/Masters MSBA/4th SEMESTER/Capstone/instacart-market-basket-analysis/' \n",
    "\n",
    "from sklearn.model_selection import train_test_split, GridSearchCV, cross_val_score\n",
    "from sklearn.metrics import confusion_matrix, accuracy_score, classification_report\n",
    "from sklearn.metrics import roc_auc_score, roc_curve, precision_score, recall_score, f1_score\n",
    "from imblearn.over_sampling import SMOTE"
   ]
  },
  {
   "cell_type": "code",
   "execution_count": 3,
   "metadata": {},
   "outputs": [
    {
     "data": {
      "text/html": [
       "<div>\n",
       "<style scoped>\n",
       "    .dataframe tbody tr th:only-of-type {\n",
       "        vertical-align: middle;\n",
       "    }\n",
       "\n",
       "    .dataframe tbody tr th {\n",
       "        vertical-align: top;\n",
       "    }\n",
       "\n",
       "    .dataframe thead th {\n",
       "        text-align: right;\n",
       "    }\n",
       "</style>\n",
       "<table border=\"1\" class=\"dataframe\">\n",
       "  <thead>\n",
       "    <tr style=\"text-align: right;\">\n",
       "      <th></th>\n",
       "      <th>user_id</th>\n",
       "      <th>product_id</th>\n",
       "      <th>total_product_orders_by_user</th>\n",
       "      <th>total_product_reorders_by_user</th>\n",
       "      <th>user_product_reorder_percentage</th>\n",
       "      <th>avg_add_to_cart_by_user</th>\n",
       "      <th>avg_days_since_last_bought</th>\n",
       "      <th>last_ordered_in</th>\n",
       "      <th>is_reorder_3</th>\n",
       "      <th>is_reorder_2</th>\n",
       "      <th>...</th>\n",
       "      <th>total_reorders_by_user</th>\n",
       "      <th>reorder_propotion_by_user</th>\n",
       "      <th>average_order_size</th>\n",
       "      <th>reorder_in_order</th>\n",
       "      <th>orders_3</th>\n",
       "      <th>orders_2</th>\n",
       "      <th>orders_1</th>\n",
       "      <th>reorder_3</th>\n",
       "      <th>reorder_2</th>\n",
       "      <th>reorder_1</th>\n",
       "    </tr>\n",
       "  </thead>\n",
       "  <tbody>\n",
       "    <tr>\n",
       "      <th>0</th>\n",
       "      <td>1</td>\n",
       "      <td>196</td>\n",
       "      <td>10.0</td>\n",
       "      <td>9.0</td>\n",
       "      <td>0.900000</td>\n",
       "      <td>1.400000</td>\n",
       "      <td>17.600000</td>\n",
       "      <td>10.0</td>\n",
       "      <td>1.0</td>\n",
       "      <td>1.0</td>\n",
       "      <td>...</td>\n",
       "      <td>41.0</td>\n",
       "      <td>0.694915</td>\n",
       "      <td>5.9</td>\n",
       "      <td>0.705833</td>\n",
       "      <td>6</td>\n",
       "      <td>6</td>\n",
       "      <td>9</td>\n",
       "      <td>0.666667</td>\n",
       "      <td>1.0</td>\n",
       "      <td>0.666667</td>\n",
       "    </tr>\n",
       "    <tr>\n",
       "      <th>1</th>\n",
       "      <td>1</td>\n",
       "      <td>10258</td>\n",
       "      <td>9.0</td>\n",
       "      <td>8.0</td>\n",
       "      <td>0.888889</td>\n",
       "      <td>3.333333</td>\n",
       "      <td>19.555555</td>\n",
       "      <td>10.0</td>\n",
       "      <td>1.0</td>\n",
       "      <td>1.0</td>\n",
       "      <td>...</td>\n",
       "      <td>41.0</td>\n",
       "      <td>0.694915</td>\n",
       "      <td>5.9</td>\n",
       "      <td>0.705833</td>\n",
       "      <td>6</td>\n",
       "      <td>6</td>\n",
       "      <td>9</td>\n",
       "      <td>0.666667</td>\n",
       "      <td>1.0</td>\n",
       "      <td>0.666667</td>\n",
       "    </tr>\n",
       "    <tr>\n",
       "      <th>2</th>\n",
       "      <td>1</td>\n",
       "      <td>10326</td>\n",
       "      <td>1.0</td>\n",
       "      <td>0.0</td>\n",
       "      <td>0.000000</td>\n",
       "      <td>5.000000</td>\n",
       "      <td>28.000000</td>\n",
       "      <td>5.0</td>\n",
       "      <td>0.0</td>\n",
       "      <td>0.0</td>\n",
       "      <td>...</td>\n",
       "      <td>41.0</td>\n",
       "      <td>0.694915</td>\n",
       "      <td>5.9</td>\n",
       "      <td>0.705833</td>\n",
       "      <td>6</td>\n",
       "      <td>6</td>\n",
       "      <td>9</td>\n",
       "      <td>0.666667</td>\n",
       "      <td>1.0</td>\n",
       "      <td>0.666667</td>\n",
       "    </tr>\n",
       "    <tr>\n",
       "      <th>3</th>\n",
       "      <td>1</td>\n",
       "      <td>12427</td>\n",
       "      <td>10.0</td>\n",
       "      <td>9.0</td>\n",
       "      <td>0.900000</td>\n",
       "      <td>3.300000</td>\n",
       "      <td>17.600000</td>\n",
       "      <td>10.0</td>\n",
       "      <td>1.0</td>\n",
       "      <td>1.0</td>\n",
       "      <td>...</td>\n",
       "      <td>41.0</td>\n",
       "      <td>0.694915</td>\n",
       "      <td>5.9</td>\n",
       "      <td>0.705833</td>\n",
       "      <td>6</td>\n",
       "      <td>6</td>\n",
       "      <td>9</td>\n",
       "      <td>0.666667</td>\n",
       "      <td>1.0</td>\n",
       "      <td>0.666667</td>\n",
       "    </tr>\n",
       "    <tr>\n",
       "      <th>4</th>\n",
       "      <td>1</td>\n",
       "      <td>13032</td>\n",
       "      <td>3.0</td>\n",
       "      <td>2.0</td>\n",
       "      <td>0.666667</td>\n",
       "      <td>6.333333</td>\n",
       "      <td>21.666666</td>\n",
       "      <td>10.0</td>\n",
       "      <td>1.0</td>\n",
       "      <td>0.0</td>\n",
       "      <td>...</td>\n",
       "      <td>41.0</td>\n",
       "      <td>0.694915</td>\n",
       "      <td>5.9</td>\n",
       "      <td>0.705833</td>\n",
       "      <td>6</td>\n",
       "      <td>6</td>\n",
       "      <td>9</td>\n",
       "      <td>0.666667</td>\n",
       "      <td>1.0</td>\n",
       "      <td>0.666667</td>\n",
       "    </tr>\n",
       "  </tbody>\n",
       "</table>\n",
       "<p>5 rows × 71 columns</p>\n",
       "</div>"
      ],
      "text/plain": [
       "   user_id  product_id  total_product_orders_by_user  \\\n",
       "0        1         196                          10.0   \n",
       "1        1       10258                           9.0   \n",
       "2        1       10326                           1.0   \n",
       "3        1       12427                          10.0   \n",
       "4        1       13032                           3.0   \n",
       "\n",
       "   total_product_reorders_by_user  user_product_reorder_percentage  \\\n",
       "0                             9.0                         0.900000   \n",
       "1                             8.0                         0.888889   \n",
       "2                             0.0                         0.000000   \n",
       "3                             9.0                         0.900000   \n",
       "4                             2.0                         0.666667   \n",
       "\n",
       "   avg_add_to_cart_by_user  avg_days_since_last_bought  last_ordered_in  \\\n",
       "0                 1.400000                   17.600000             10.0   \n",
       "1                 3.333333                   19.555555             10.0   \n",
       "2                 5.000000                   28.000000              5.0   \n",
       "3                 3.300000                   17.600000             10.0   \n",
       "4                 6.333333                   21.666666             10.0   \n",
       "\n",
       "   is_reorder_3  is_reorder_2  ...  total_reorders_by_user  \\\n",
       "0           1.0           1.0  ...                    41.0   \n",
       "1           1.0           1.0  ...                    41.0   \n",
       "2           0.0           0.0  ...                    41.0   \n",
       "3           1.0           1.0  ...                    41.0   \n",
       "4           1.0           0.0  ...                    41.0   \n",
       "\n",
       "   reorder_propotion_by_user  average_order_size  reorder_in_order  orders_3  \\\n",
       "0                   0.694915                 5.9          0.705833         6   \n",
       "1                   0.694915                 5.9          0.705833         6   \n",
       "2                   0.694915                 5.9          0.705833         6   \n",
       "3                   0.694915                 5.9          0.705833         6   \n",
       "4                   0.694915                 5.9          0.705833         6   \n",
       "\n",
       "   orders_2  orders_1  reorder_3  reorder_2  reorder_1  \n",
       "0         6         9   0.666667        1.0   0.666667  \n",
       "1         6         9   0.666667        1.0   0.666667  \n",
       "2         6         9   0.666667        1.0   0.666667  \n",
       "3         6         9   0.666667        1.0   0.666667  \n",
       "4         6         9   0.666667        1.0   0.666667  \n",
       "\n",
       "[5 rows x 71 columns]"
      ]
     },
     "execution_count": 3,
     "metadata": {},
     "output_type": "execute_result"
    }
   ],
   "source": [
    "df = pd.read_pickle(root + 'Finaldata.pkl')\n",
    "df.head()"
   ]
  },
  {
   "cell_type": "code",
   "execution_count": 4,
   "metadata": {},
   "outputs": [],
   "source": [
    "def reduce_memory(df):\n",
    "    \n",
    "    \"\"\"\n",
    "    This function reduce the dataframe memory usage by converting it's type for easier handling.\n",
    "    \n",
    "    Parameters: Dataframe\n",
    "    Return: Dataframe\n",
    "    \"\"\"\n",
    "    \n",
    "    start_mem_usg = df.memory_usage().sum() / 1024**2 \n",
    "    print(\"Memory usage of properties dataframe is :\",start_mem_usg,\" MB\")\n",
    "    \n",
    "    for col in df.columns:\n",
    "        if df[col].dtypes in [\"int64\", \"int32\", \"int16\"]:\n",
    "            \n",
    "            cmin = df[col].min()\n",
    "            cmax = df[col].max()\n",
    "            \n",
    "            if cmin > np.iinfo(np.int8).min and cmax < np.iinfo(np.int8).max:\n",
    "                df[col] = df[col].astype(np.int8)\n",
    "            \n",
    "            elif cmin > np.iinfo(np.int16).min and cmax < np.iinfo(np.int16).max:\n",
    "                df[col] = df[col].astype(np.int16)\n",
    "            \n",
    "            elif cmin > np.iinfo(np.int32).min and cmax < np.iinfo(np.int32).max:\n",
    "                df[col] = df[col].astype(np.int32)\n",
    "        \n",
    "        if df[col].dtypes in [\"float64\", \"float32\"]:\n",
    "            \n",
    "            cmin = df[col].min()\n",
    "            cmax = df[col].max()\n",
    "            \n",
    "            if cmin > np.finfo(np.float16).min and cmax < np.finfo(np.float16).max:\n",
    "                df[col] = df[col].astype(np.float16)\n",
    "            \n",
    "            elif cmin > np.finfo(np.float32).min and cmax < np.finfo(np.float32).max:\n",
    "                df[col] = df[col].astype(np.float32)\n",
    "    \n",
    "    print(\"\")\n",
    "    print(\"___MEMORY USAGE AFTER COMPLETION:___\")\n",
    "    mem_usg = df.memory_usage().sum() / 1024**2 \n",
    "    print(\"Memory usage is: \",mem_usg,\" MB\")\n",
    "    print(\"This is \",100*mem_usg/start_mem_usg,\"% of the initial size\")\n",
    "    \n",
    "    return df"
   ]
  },
  {
   "cell_type": "code",
   "execution_count": 5,
   "metadata": {},
   "outputs": [
    {
     "name": "stdout",
     "output_type": "stream",
     "text": [
      "Memory usage of properties dataframe is : 4428.972461700439  MB\n",
      "\n",
      "___MEMORY USAGE AFTER COMPLETION:___\n",
      "Memory usage is:  1293.1306457519531  MB\n",
      "This is  29.197080291970803 % of the initial size\n"
     ]
    }
   ],
   "source": [
    "df = reduce_memory(df)"
   ]
  },
  {
   "cell_type": "code",
   "execution_count": 6,
   "metadata": {},
   "outputs": [],
   "source": [
    "df['order_diff'] = df.order_number - df.last_ordered_in\n",
    "df.drop(['user_id', 'product_id'], axis = 1, inplace = True)"
   ]
  },
  {
   "cell_type": "code",
   "execution_count": 7,
   "metadata": {},
   "outputs": [
    {
     "data": {
      "text/html": [
       "<div>\n",
       "<style scoped>\n",
       "    .dataframe tbody tr th:only-of-type {\n",
       "        vertical-align: middle;\n",
       "    }\n",
       "\n",
       "    .dataframe tbody tr th {\n",
       "        vertical-align: top;\n",
       "    }\n",
       "\n",
       "    .dataframe thead th {\n",
       "        text-align: right;\n",
       "    }\n",
       "</style>\n",
       "<table border=\"1\" class=\"dataframe\">\n",
       "  <thead>\n",
       "    <tr style=\"text-align: right;\">\n",
       "      <th></th>\n",
       "      <th>total_product_orders_by_user</th>\n",
       "      <th>total_product_reorders_by_user</th>\n",
       "      <th>user_product_reorder_percentage</th>\n",
       "      <th>avg_add_to_cart_by_user</th>\n",
       "      <th>avg_days_since_last_bought</th>\n",
       "      <th>last_ordered_in</th>\n",
       "      <th>is_reorder_3</th>\n",
       "      <th>is_reorder_2</th>\n",
       "      <th>is_reorder_1</th>\n",
       "      <th>order_number</th>\n",
       "      <th>...</th>\n",
       "      <th>reorder_propotion_by_user</th>\n",
       "      <th>average_order_size</th>\n",
       "      <th>reorder_in_order</th>\n",
       "      <th>orders_3</th>\n",
       "      <th>orders_2</th>\n",
       "      <th>orders_1</th>\n",
       "      <th>reorder_3</th>\n",
       "      <th>reorder_2</th>\n",
       "      <th>reorder_1</th>\n",
       "      <th>order_diff</th>\n",
       "    </tr>\n",
       "  </thead>\n",
       "  <tbody>\n",
       "    <tr>\n",
       "      <th>0</th>\n",
       "      <td>10.0</td>\n",
       "      <td>9.0</td>\n",
       "      <td>0.899902</td>\n",
       "      <td>1.400391</td>\n",
       "      <td>17.593750</td>\n",
       "      <td>10.0</td>\n",
       "      <td>1.0</td>\n",
       "      <td>1.0</td>\n",
       "      <td>1.0</td>\n",
       "      <td>11.0</td>\n",
       "      <td>...</td>\n",
       "      <td>0.694824</td>\n",
       "      <td>5.898438</td>\n",
       "      <td>0.706055</td>\n",
       "      <td>6</td>\n",
       "      <td>6</td>\n",
       "      <td>9</td>\n",
       "      <td>0.666504</td>\n",
       "      <td>1.0</td>\n",
       "      <td>0.666504</td>\n",
       "      <td>1.0</td>\n",
       "    </tr>\n",
       "    <tr>\n",
       "      <th>1</th>\n",
       "      <td>9.0</td>\n",
       "      <td>8.0</td>\n",
       "      <td>0.888672</td>\n",
       "      <td>3.333984</td>\n",
       "      <td>19.562500</td>\n",
       "      <td>10.0</td>\n",
       "      <td>1.0</td>\n",
       "      <td>1.0</td>\n",
       "      <td>1.0</td>\n",
       "      <td>11.0</td>\n",
       "      <td>...</td>\n",
       "      <td>0.694824</td>\n",
       "      <td>5.898438</td>\n",
       "      <td>0.706055</td>\n",
       "      <td>6</td>\n",
       "      <td>6</td>\n",
       "      <td>9</td>\n",
       "      <td>0.666504</td>\n",
       "      <td>1.0</td>\n",
       "      <td>0.666504</td>\n",
       "      <td>1.0</td>\n",
       "    </tr>\n",
       "    <tr>\n",
       "      <th>2</th>\n",
       "      <td>1.0</td>\n",
       "      <td>0.0</td>\n",
       "      <td>0.000000</td>\n",
       "      <td>5.000000</td>\n",
       "      <td>28.000000</td>\n",
       "      <td>5.0</td>\n",
       "      <td>0.0</td>\n",
       "      <td>0.0</td>\n",
       "      <td>0.0</td>\n",
       "      <td>11.0</td>\n",
       "      <td>...</td>\n",
       "      <td>0.694824</td>\n",
       "      <td>5.898438</td>\n",
       "      <td>0.706055</td>\n",
       "      <td>6</td>\n",
       "      <td>6</td>\n",
       "      <td>9</td>\n",
       "      <td>0.666504</td>\n",
       "      <td>1.0</td>\n",
       "      <td>0.666504</td>\n",
       "      <td>6.0</td>\n",
       "    </tr>\n",
       "    <tr>\n",
       "      <th>3</th>\n",
       "      <td>10.0</td>\n",
       "      <td>9.0</td>\n",
       "      <td>0.899902</td>\n",
       "      <td>3.300781</td>\n",
       "      <td>17.593750</td>\n",
       "      <td>10.0</td>\n",
       "      <td>1.0</td>\n",
       "      <td>1.0</td>\n",
       "      <td>1.0</td>\n",
       "      <td>11.0</td>\n",
       "      <td>...</td>\n",
       "      <td>0.694824</td>\n",
       "      <td>5.898438</td>\n",
       "      <td>0.706055</td>\n",
       "      <td>6</td>\n",
       "      <td>6</td>\n",
       "      <td>9</td>\n",
       "      <td>0.666504</td>\n",
       "      <td>1.0</td>\n",
       "      <td>0.666504</td>\n",
       "      <td>1.0</td>\n",
       "    </tr>\n",
       "    <tr>\n",
       "      <th>4</th>\n",
       "      <td>3.0</td>\n",
       "      <td>2.0</td>\n",
       "      <td>0.666504</td>\n",
       "      <td>6.332031</td>\n",
       "      <td>21.671875</td>\n",
       "      <td>10.0</td>\n",
       "      <td>1.0</td>\n",
       "      <td>0.0</td>\n",
       "      <td>0.0</td>\n",
       "      <td>11.0</td>\n",
       "      <td>...</td>\n",
       "      <td>0.694824</td>\n",
       "      <td>5.898438</td>\n",
       "      <td>0.706055</td>\n",
       "      <td>6</td>\n",
       "      <td>6</td>\n",
       "      <td>9</td>\n",
       "      <td>0.666504</td>\n",
       "      <td>1.0</td>\n",
       "      <td>0.666504</td>\n",
       "      <td>1.0</td>\n",
       "    </tr>\n",
       "  </tbody>\n",
       "</table>\n",
       "<p>5 rows × 70 columns</p>\n",
       "</div>"
      ],
      "text/plain": [
       "   total_product_orders_by_user  total_product_reorders_by_user  \\\n",
       "0                          10.0                             9.0   \n",
       "1                           9.0                             8.0   \n",
       "2                           1.0                             0.0   \n",
       "3                          10.0                             9.0   \n",
       "4                           3.0                             2.0   \n",
       "\n",
       "   user_product_reorder_percentage  avg_add_to_cart_by_user  \\\n",
       "0                         0.899902                 1.400391   \n",
       "1                         0.888672                 3.333984   \n",
       "2                         0.000000                 5.000000   \n",
       "3                         0.899902                 3.300781   \n",
       "4                         0.666504                 6.332031   \n",
       "\n",
       "   avg_days_since_last_bought  last_ordered_in  is_reorder_3  is_reorder_2  \\\n",
       "0                   17.593750             10.0           1.0           1.0   \n",
       "1                   19.562500             10.0           1.0           1.0   \n",
       "2                   28.000000              5.0           0.0           0.0   \n",
       "3                   17.593750             10.0           1.0           1.0   \n",
       "4                   21.671875             10.0           1.0           0.0   \n",
       "\n",
       "   is_reorder_1  order_number  ...  reorder_propotion_by_user  \\\n",
       "0           1.0          11.0  ...                   0.694824   \n",
       "1           1.0          11.0  ...                   0.694824   \n",
       "2           0.0          11.0  ...                   0.694824   \n",
       "3           1.0          11.0  ...                   0.694824   \n",
       "4           0.0          11.0  ...                   0.694824   \n",
       "\n",
       "   average_order_size  reorder_in_order  orders_3  orders_2  orders_1  \\\n",
       "0            5.898438          0.706055         6         6         9   \n",
       "1            5.898438          0.706055         6         6         9   \n",
       "2            5.898438          0.706055         6         6         9   \n",
       "3            5.898438          0.706055         6         6         9   \n",
       "4            5.898438          0.706055         6         6         9   \n",
       "\n",
       "   reorder_3  reorder_2  reorder_1  order_diff  \n",
       "0   0.666504        1.0   0.666504         1.0  \n",
       "1   0.666504        1.0   0.666504         1.0  \n",
       "2   0.666504        1.0   0.666504         6.0  \n",
       "3   0.666504        1.0   0.666504         1.0  \n",
       "4   0.666504        1.0   0.666504         1.0  \n",
       "\n",
       "[5 rows x 70 columns]"
      ]
     },
     "execution_count": 7,
     "metadata": {},
     "output_type": "execute_result"
    }
   ],
   "source": [
    "df.head()"
   ]
  },
  {
   "cell_type": "code",
   "execution_count": 8,
   "metadata": {},
   "outputs": [
    {
     "data": {
      "text/plain": [
       "(8474661, 70)"
      ]
     },
     "execution_count": 8,
     "metadata": {},
     "output_type": "execute_result"
    }
   ],
   "source": [
    "df.shape"
   ]
  },
  {
   "cell_type": "code",
   "execution_count": 9,
   "metadata": {},
   "outputs": [],
   "source": [
    "label = 'reordered'\n",
    "x_cols = df.columns.drop('reordered')"
   ]
  },
  {
   "cell_type": "code",
   "execution_count": 10,
   "metadata": {},
   "outputs": [],
   "source": [
    "X = df[x_cols]\n",
    "y = df[label]"
   ]
  },
  {
   "cell_type": "code",
   "execution_count": 11,
   "metadata": {},
   "outputs": [
    {
     "name": "stdout",
     "output_type": "stream",
     "text": [
      "(6355995, 69) (6355995,)\n",
      "(2118666, 69) (2118666,)\n"
     ]
    }
   ],
   "source": [
    "X_train, X_test, y_train, y_test = train_test_split(X, y, stratify = y, test_size = 0.25)\n",
    "\n",
    "print(X_train.shape, y_train.shape)\n",
    "print(X_test.shape, y_test.shape)"
   ]
  },
  {
   "cell_type": "code",
   "execution_count": 12,
   "metadata": {},
   "outputs": [
    {
     "data": {
      "text/plain": [
       "0.0    5734377\n",
       "1.0     621618\n",
       "Name: reordered, dtype: int64"
      ]
     },
     "execution_count": 12,
     "metadata": {},
     "output_type": "execute_result"
    }
   ],
   "source": [
    "y_train.value_counts()"
   ]
  },
  {
   "cell_type": "code",
   "execution_count": 13,
   "metadata": {},
   "outputs": [
    {
     "data": {
      "text/plain": [
       "10.0"
      ]
     },
     "execution_count": 13,
     "metadata": {},
     "output_type": "execute_result"
    }
   ],
   "source": [
    "np.ceil(y_train.value_counts()[0]/y_train.value_counts()[1])"
   ]
  },
  {
   "cell_type": "code",
   "execution_count": 14,
   "metadata": {},
   "outputs": [
    {
     "data": {
      "text/plain": [
       "0.0    1911460\n",
       "1.0     207206\n",
       "Name: reordered, dtype: int64"
      ]
     },
     "execution_count": 14,
     "metadata": {},
     "output_type": "execute_result"
    }
   ],
   "source": [
    "y_test.value_counts()"
   ]
  },
  {
   "cell_type": "code",
   "execution_count": 15,
   "metadata": {},
   "outputs": [
    {
     "data": {
      "text/plain": [
       "34"
      ]
     },
     "execution_count": 15,
     "metadata": {},
     "output_type": "execute_result"
    }
   ],
   "source": [
    "# freeing memory\n",
    "del df, X, y\n",
    "gc.collect()"
   ]
  },
  {
   "cell_type": "markdown",
   "metadata": {},
   "source": [
    "## Neural Network model "
   ]
  },
  {
   "cell_type": "code",
   "execution_count": 16,
   "metadata": {},
   "outputs": [
    {
     "name": "stderr",
     "output_type": "stream",
     "text": [
      "Using TensorFlow backend.\n"
     ]
    }
   ],
   "source": [
    "import keras\n",
    "from keras.models import Sequential\n",
    "from keras.layers import Dense, Dropout\n",
    "from keras.regularizers import l2\n",
    "from keras.callbacks import History\n",
    "from keras import backend as K\n",
    "from sklearn.preprocessing import MinMaxScaler"
   ]
  },
  {
   "cell_type": "code",
   "execution_count": 17,
   "metadata": {},
   "outputs": [],
   "source": [
    "sc = MinMaxScaler()\n",
    "X_train_sc = sc.fit_transform(X_train)\n",
    "X_test_sc = sc.transform(X_test)"
   ]
  },
  {
   "cell_type": "code",
   "execution_count": 18,
   "metadata": {},
   "outputs": [
    {
     "data": {
      "text/plain": [
       "69"
      ]
     },
     "execution_count": 18,
     "metadata": {},
     "output_type": "execute_result"
    }
   ],
   "source": [
    "input_dim =  X_train_sc.shape[1]\n",
    "input_dim"
   ]
  },
  {
   "cell_type": "code",
   "execution_count": 19,
   "metadata": {},
   "outputs": [],
   "source": [
    "def recall_m(y_true, y_pred):\n",
    "    true_positives = K.sum(K.round(K.clip(y_true * y_pred, 0, 1)))\n",
    "    possible_positives = K.sum(K.round(K.clip(y_true, 0, 1)))\n",
    "    recall = true_positives / (possible_positives + K.epsilon())\n",
    "    return recall\n",
    "\n",
    "def precision_m(y_true, y_pred):\n",
    "    true_positives = K.sum(K.round(K.clip(y_true * y_pred, 0, 1)))\n",
    "    predicted_positives = K.sum(K.round(K.clip(y_pred, 0, 1)))\n",
    "    precision = true_positives / (predicted_positives + K.epsilon())\n",
    "    return precision\n",
    "\n",
    "def f1_m(y_true, y_pred):\n",
    "    precision = precision_m(y_true, y_pred)\n",
    "    recall = recall_m(y_true, y_pred)\n",
    "    return 2*((precision*recall)/(precision+recall+K.epsilon()))"
   ]
  },
  {
   "cell_type": "code",
   "execution_count": 20,
   "metadata": {},
   "outputs": [
    {
     "name": "stdout",
     "output_type": "stream",
     "text": [
      "WARNING:tensorflow:From C:\\Users\\apoor\\AppData\\Local\\Continuum\\anaconda3\\lib\\site-packages\\keras\\backend\\tensorflow_backend.py:74: The name tf.get_default_graph is deprecated. Please use tf.compat.v1.get_default_graph instead.\n",
      "\n",
      "WARNING:tensorflow:From C:\\Users\\apoor\\AppData\\Local\\Continuum\\anaconda3\\lib\\site-packages\\keras\\backend\\tensorflow_backend.py:517: The name tf.placeholder is deprecated. Please use tf.compat.v1.placeholder instead.\n",
      "\n",
      "WARNING:tensorflow:From C:\\Users\\apoor\\AppData\\Local\\Continuum\\anaconda3\\lib\\site-packages\\keras\\backend\\tensorflow_backend.py:4138: The name tf.random_uniform is deprecated. Please use tf.random.uniform instead.\n",
      "\n",
      "WARNING:tensorflow:From C:\\Users\\apoor\\AppData\\Local\\Continuum\\anaconda3\\lib\\site-packages\\keras\\optimizers.py:790: The name tf.train.Optimizer is deprecated. Please use tf.compat.v1.train.Optimizer instead.\n",
      "\n",
      "WARNING:tensorflow:From C:\\Users\\apoor\\AppData\\Local\\Continuum\\anaconda3\\lib\\site-packages\\keras\\backend\\tensorflow_backend.py:3376: The name tf.log is deprecated. Please use tf.math.log instead.\n",
      "\n",
      "WARNING:tensorflow:From C:\\Users\\apoor\\AppData\\Local\\Continuum\\anaconda3\\lib\\site-packages\\tensorflow\\python\\ops\\nn_impl.py:180: add_dispatch_support.<locals>.wrapper (from tensorflow.python.ops.array_ops) is deprecated and will be removed in a future version.\n",
      "Instructions for updating:\n",
      "Use tf.where in 2.0, which has the same broadcast rule as np.where\n",
      "_________________________________________________________________\n",
      "Layer (type)                 Output Shape              Param #   \n",
      "=================================================================\n",
      "dense_1 (Dense)              (None, 64)                4480      \n",
      "_________________________________________________________________\n",
      "dense_2 (Dense)              (None, 15)                975       \n",
      "_________________________________________________________________\n",
      "dense_3 (Dense)              (None, 4)                 64        \n",
      "_________________________________________________________________\n",
      "dense_4 (Dense)              (None, 1)                 5         \n",
      "=================================================================\n",
      "Total params: 5,524\n",
      "Trainable params: 5,524\n",
      "Non-trainable params: 0\n",
      "_________________________________________________________________\n"
     ]
    }
   ],
   "source": [
    "history = History()\n",
    "\n",
    "classifier = Sequential()\n",
    "\n",
    "classifier.add(Dense(units = 64, activation = 'relu', input_dim = input_dim))\n",
    "classifier.add(Dense(units = 15, activation = 'relu'))\n",
    "classifier.add(Dense(units = 4, activation = 'relu'))\n",
    "classifier.add(Dense(units = 1, activation ='sigmoid'))\n",
    "\n",
    "classifier.compile(optimizer = \"adam\", loss = 'binary_crossentropy', metrics = ['accuracy', f1_m, precision_m, recall_m])\n",
    "\n",
    "classifier.summary()"
   ]
  },
  {
   "cell_type": "code",
   "execution_count": 27,
   "metadata": {},
   "outputs": [
    {
     "name": "stdout",
     "output_type": "stream",
     "text": [
      "Train on 5402595 samples, validate on 953400 samples\n",
      "Epoch 1/50\n",
      "5402595/5402595 [==============================] - 251s 46us/step - loss: 0.9395 - acc: 0.7416 - f1_m: 0.3681 - precision_m: 0.2428 - recall_m: 0.7720 - val_loss: 0.9379 - val_acc: 0.7310 - val_f1_m: 0.3612 - val_precision_m: 0.2357 - val_recall_m: 0.78352 - acc: 0.7416 - f1_m: 0.3682 - precision_m: 0.2428 - recall_m: 0.7 - ETA: 1:26 - loss: 0.9392 - acc: 0.7416 - f1_m: 0.3681 - precision_m: 0.2428 - recall_ - ETA: 1:25 - loss: 0.9392 - acc: 0.7416 - f1_m: 0.3681 - precision_m: 0.2428 - recall_m: 0.772 - ETA: 1:25 - loss: 0.9392 - acc: 0.7416 - f1_m: 0.3681 - precision_m: 0.2428 - recall_m: 0. - ETA: 1:25 - loss: 0.9393 - acc: 0.7416 - f1_m: 0.3681 - precision_m: 0.2427 - - ETA: 1:24 - loss: 0.9393 - acc: 0.7416 - f1_m: 0.3681 - precision_m: 0.2428 - recall_m - ETA: 1:24 - loss: 0.9394 - acc: 0.7415 - f1_m: 0.3681 - precision_m: 0.2427 - recall_m: 0.77 - ETA: 1:24 - loss: 0.9394 - acc: 0.7415 - f1_m: 0.3681 - precision_m: 0.2428 - recall_m: - ETA: 1:23 - loss: 0.9394 - acc: 0.7416 - f1_m: 0.3681 - precision_m: 0.2428 - recall_m: 0 - ETA: 1:23 - loss: 0.9394 - acc: 0.7416 - f1_m: 0.3682 - precision_m: 0.2428 - recall_m: 0.77 - ETA: 1:23 - loss: 0.9394 - acc: 0.7416 - ETA: 42s - loss: 0.9397 - acc: 0.7417 - f1_m: 0.3 - ETA: 22s - loss: 0.9398 - acc: 0.7416 - ETA: 17s - lo - ETA: 11s - loss: 0.\n",
      "Epoch 2/50\n",
      "5402595/5402595 [==============================] - 98s 18us/step - loss: 0.9393 - acc: 0.7415 - f1_m: 0.3680 - precision_m: 0.2427 - recall_m: 0.7720 - val_loss: 0.9384 - val_acc: 0.7515 - val_f1_m: 0.3727 - val_precision_m: 0.2478 - val_recall_m: 0.7605\n",
      "Epoch 3/50\n",
      "5402595/5402595 [==============================] - 108s 20us/step - loss: 0.9394 - acc: 0.7413 - f1_m: 0.3678 - precision_m: 0.2425 - recall_m: 0.7720 - val_loss: 0.9408 - val_acc: 0.7108 - val_f1_m: 0.3505 - val_precision_m: 0.2249 - val_recall_m: 0.8034\n",
      "Epoch 4/50\n",
      "5402595/5402595 [==============================] - 113s 21us/step - loss: 0.9394 - acc: 0.7416 - f1_m: 0.3680 - precision_m: 0.2427 - recall_m: 0.7718 - val_loss: 0.9374 - val_acc: 0.7377 - val_f1_m: 0.3648 - val_precision_m: 0.2394 - val_recall_m: 0.7758\n",
      "Epoch 5/50\n",
      "5402595/5402595 [==============================] - 130s 24us/step - loss: 0.9393 - acc: 0.7414 - f1_m: 0.3679 - precision_m: 0.2426 - recall_m: 0.7722 - val_loss: 0.9368 - val_acc: 0.7431 - val_f1_m: 0.3677 - val_precision_m: 0.2425 - val_recall_m: 0.76953 - f1_m: 0.3679 - precision_m: 0.2426 - recall_m: 0.77 - ETA: 12s - loss: 0.9394 - acc: 0.7413 - f1_m: 0.367 - ETA: 12s - loss: 0.9394 - acc: 0.7413 - f1_m: 0.3680 - precision_m: 0.2426 - recall_m - ETA: 11s - loss: 0.9393 - acc: 0.7413 - f1_m: 0.3679 - precision_m: 0.2426 - recall_m:  - ETA: 11s - loss: 0.9393 - acc: 0.7413 - f1_m: 0.3680 - precision_m: 0.2426 - recall_m: 0.77 - ETA: 11s - loss: 0.9394 - acc: 0.7413 - f1_m: 0.3680 - precision_m: 0.2426 - recall_m: 0.77 - ETA: 11s - loss: 0.9393 - acc: 0.7413 - f1_m: 0 -  - ETA: 8s - loss: 0.9393 - acc: 0.7414 - f1_m: 0.3680 - pre - ETA: 6s - loss: 0.9393 - acc: 0.7413 - f1_m: 0.3679 - precision_m: 0.2426 - recall_m: 0.772 - ETA: 6s - loss: 0.9393 - acc: 0.7413 - f1_m: 0.3679 - precision_m: 0. - ETA: 5s - loss: 0.9394 - acc: 0.7413 - f1_m: 0.3679 - precision_m: 0.2426 - rec - ETA: 5s - loss: 0.9394 - acc: 0.7413 - f1_m: 0.3679 - precision_m: 0.2426 - recall_m: 0.772 - ETA: 5s - loss: 0.9394 - acc: 0.7413 - f - ETA: 4s - loss: 0.9395 - acc: 0.7413 - f1_m: 0.3679 - precision_m: 0.2426 - recall_m: 0.77 - ETA: 4s - loss: 0.9395 - acc: 0.7413 - f1_m: 0.3679 - precision_m: 0.2426 - recall_m: 0.772 - ETA: 4s - loss: 0.9395 - acc: 0.7413 - f1_m: 0.3679 - precision_m: 0.2426 - recall_m: 0.772 - ETA: 4s - loss: 0.9394 - acc: 0.7413 - f1_m: 0.3679 - precision_m: 0.2426 - recall_m: 0.7 - ETA: 4s - loss:\n",
      "Epoch 6/50\n"
     ]
    },
    {
     "name": "stdout",
     "output_type": "stream",
     "text": [
      "5402595/5402595 [==============================] - 154s 29us/step - loss: 0.9392 - acc: 0.7414 - f1_m: 0.3678 - precision_m: 0.2426 - recall_m: 0.7719 - val_loss: 0.9379 - val_acc: 0.7312 - val_f1_m: 0.3615 - val_precision_m: 0.2358 - val_recall_m: 0.7838: 0.7435 - f1_m: 0.3708 - precision_m: 0. - ETA: 2:20 - loss: 0.9381 - acc: 0.7434 - f1_m: 0.3693 - precision_m: 0.2438 -  - ETA: 2:20 - loss: 0.9388 - acc: 0.7428 - f1_m: 0.3694 - precision_m: 0.2438 - recall_m: 0.77 - ETA: 2:20 - loss: 0.9395 - acc: 0.7429 - f1_m: 0.3696 - precision_m: 0.2441 - recall_m: 0. - ETA: 2:19 - loss: 0.9399 - acc: 0.7429 - f1_m: 0.3695 - precision_m: 0.2440 - recall_m: - ETA: 2:21 - loss: 0.9401 - acc: 0.7423 - f1_m: 0.3693 - precision_m: 0.2438 - recall_m - ETA: 2:21 - loss: 0.9412 - acc: 0.7424 - f1_m: 0.3691 - precision_m: 0.2437 - re - ETA: 2:15 - loss: 0.9419 - acc: 0.7422 - f1_m: 0.3685 - precision_m: 0.2433 - recall_m: 0.770 - ETA: 2:16 - loss: 0.9419 - acc: 0.7422 - f1_m: 0.3685 - precision_m: - ETA: 2:08 - loss: 0.9426 - acc: 0.7415 - f1_m: 0.3681 - - ETA: 2:06 - loss: 0.9419 - acc: 0.7417 - f1_m: 0.3 - ETA: 2:08 - loss: 0.9408 - acc: 0.7422 - f1_m: 0.3676 - precision_m: 0.2426 - recall - ETA: 2:09 - loss: 0.9408 - acc: 0.7422 - f1_m: 0.3677 - precision_m: 0.2426 - recall_m: 0.7 - ETA: 2:10 - loss: 0.9405 - acc: 0.7423 - f1_m: 0.3677 - precision_m: 0.2426 - recall_m: 0.769 - ETA: 2:10 - loss: 0.9405 - acc: 0.7423 - f1_m: 0.3676 - precision_m: 0.2426 - recall_m: 0.769 - ETA: 2:10 - loss: 0.9407 - acc: 0.7423 - f1_m: 0.3677 - precision_m: 0.2426 - recall_m: 0.76 - ETA: 2:10 - loss: 0.9408 - acc: 0.7423 - f1_m: 0.3676 - precision_m: 0.2426 - recall_m: 0. - ETA: 2:10 - loss: 0.9408 - acc: 0.7423 - f1_m: 0.3677 - precision_m: 0.2427 - recall_m:  - ETA: 2:11 - loss: 0.9403 - acc: 0.7422 - f1_m: 0.3676 - precision_m: 0.2425 - recall_m: 0.769 - ETA: 2:11 - loss: 0.9402 - acc: 0.7422 - f1_m: 0.3676 - precision_m: 0.2425 - recall_m: 0.769 - ETA: 2:11 - loss: 0.9405 - acc: 0.7423 - f1_m: 0.3677 - precision_m: 0.2426 - recall_ - ETA: 2:13 - loss: 0.9405 - acc: 0.7423 - f1_m: 0.3677 - precision_m: 0.242 - ETA: 2:16 - loss: 0.9404 - acc: 0.7421 - f1_m: 0.3674 - precision_m: 0.2425 - recall_m: 0 - ETA: 2:17 - loss: 0.9407 - acc: 0.7421 - f1_m: 0.3674 - precision_m: 0.2425 - - ETA: 2:22 - loss: 0.9412 - acc: 0.7418 - f1_m: 0.3674 - precision_m: 0.2424 - recall_m: - ETA: 2:23 - loss: 0.9415 - acc: 0.7417 - f1_m: 0.3675 - precision_m: 0.2425 - recall_m: 0.769 - ETA: 2:23 - loss: 0.9415 - acc: 0.7417 - f1_m: 0.3675 - precision_m: 0.2425 - recall_m: 0.7 - ETA: 2:23 - loss: 0.9415 - acc: 0.7417 - f1_m: 0.3675 - precision_m: 0.2425 - recall_m: 0. - ETA: 2:24 - loss: 0.9414 - acc: 0.7417 - f1_m: 0.3674 - precision_m: 0.2424 - recall_m: 0.769 - ETA: 2:24 - loss: 0.9415 - acc: 0.7417 - f1_m: 0.3674 - precis - ETA: 2:21 - loss: 0.9402 - acc: 0.7421 - f1_m: 0.3673 - precision_m: 0.2424 - ETA: 2:17 - loss: 0.9405 - acc: 0.7420 - f1_m: 0.3677 - precision_m: 0.2427 - recall_m: - ETA: 2:17 - loss: 0.9406 - acc: 0.7419 - f1_m: 0.3677 - precision_m: 0.2426 - recall_m: - ETA: 2:16 - loss: 0.9407 - acc: 0.7419 - f1_m: 0.3678 - precisi - ETA: 2:14 - loss: 0.9395 - acc: 0.7423 - f1_m: 0.3 - ETA: 2:05 - loss: 0.9402 - acc: 0.7420 - f1_m: 0.3675 - precision_m: 0.24 - - ETA: 1:56 - loss: 0.9399 - acc: 0.7426 - f1_m: 0.3674 - precision_m: 0.2425 - recall_m: 0. - ETA: 1:56 - loss: 0.9399 - acc: 0.7426 - f1_m: 0.3673 - precision_m: 0.2424 - recall_m: 0.768 - ETA: 1:56 - loss: 0.9398 - acc: 0.7426 - f1_m: 0.3673 - precision_m: 0.2424 - recall_m: 0.768 - ETA: 1:56 - loss: 0.9398 - acc: 0.7426 - f1_m: 0.3673 - precision_m: 0.2425 -  - ETA: 1:55 - loss: 0.9398 - acc: 0.7426 - f1_m: 0.3674 - precision_m: 0.2425 - recall_m: 0 - ETA: 1: - ETA: 1:45 - loss: 0.9409 - acc: 0.7417 - f1_m: 0.3673 - precision_m: 0.2 - ETA: 1:37 - loss: 0.9399 - acc: 0.7417 - f1_m: 0.36 - ETA: 1:35 - loss: 0.9404 - acc: 0.7415 - f1_m: 0.3675 - precision_m: 0 - ETA: 1:21 - loss: 0.9407 - acc: 0.7412 - f1_m: 0.3678 - precision_m: 0.2426 - re - ETA: 1:20 -  - ETA: 1:11 - loss: 0.9405 - acc: 0.7413 - f1_m: 0.3678 - precision_m: 0.2426 - recall_m - ETA: 1:11 - loss: 0.9405 - acc: 0.7413 - f1_m: 0.3678 - precision_m: - ETA: 1:09 - loss: 0.9410 - acc: 0.7411 - f1_m: 0.3677 - precision_m: 0.2425 - recall_m: 0.771 - ETA: 1:09 - loss: 0.9410 - acc: 0.7411 - f1_m: 0.3678 - precision_m: 0.2425 - recall_m: - ETA: 1:09 - loss: 0.9410 - acc: 0.7410 - f1_m: 0.3677 - precision_m: 0. - ETA: 1:09 - loss: 0.9411 - acc: 0.7410 - f1_m: 0.3677 - precision_m:  - ETA: 1:08 - loss: 0.9411 - acc: 0.7410 - f1_m: 0.3676 - precision_m: 0.2424 - recall_m: 0.771 - ETA: 1:08 - loss: 0.9411 - acc: 0.7410 - f1_m: 0.3676 - precision_m: 0.2424 - recall_m: - ETA: 1:08 - loss: 0.9411 - acc: 0.7410 - f1_m: 0.3676 - precision_m: 0.2424 - recall_m: 0.771 - ETA: 1:08 - loss: 0.9411 - acc: 0.7410  - ETA: 1:04 - loss: 0.9406 - acc: 0.7414 - f1_m: 0.3679 - precision_m: 0.2427 - recall_m: 0.7 - ETA: 1:04 - loss: 0.9405 - ETA - ETA: 53s - loss: 0.9400 - acc: 0.7414 - f1_m: - ETA: 52s - loss: 0.9401 - acc:  - ETA: 47s - loss: 0.9392 - acc: 0.7418 - f1_m: 0.3680 - precision_m: - ETA: 45s - loss: 0.9392 - acc: 0.7418 - f1_m: - ETA: 44s - loss: 0.9394 - ETA: 31s - loss: 0.9392 - acc: 0.7416 - f1_m: 0.3681 - precision_m: 0.2428 -  - ETA: 31s - loss: 0.9393 - acc: 0.7416 - - ETA: 29s - loss: 0.9393 - acc: 0.74 - ETA: 22s - loss: 0.9394 - acc:  - ETA: 20s - loss: 0.9390 - - ETA: 19s - loss: 0.9390 - acc: 0.7416 - f1_m: 0.3680 - precision_m: 0.242 - ETA: 18s - loss: 0.9390 - acc: 0.7416 - f1_m: 0.3680 - precision_m: 0.242 - ETA: 18s - lo - ETA: 16s - loss: 0.9391 - acc: 0.7416 - f1_m: 0.3679 - precision_m: 0.2427 - recall_m: 0.77 - ETA: 16s - loss: 0.9391 - acc: 0.7416 - f1_m: 0.3679 - precision_m: 0.2427 - re - ETA: 16s - loss: 0.9391 - acc: 0.7416 - f1_m: 0.3680 - precision_m: 0.2427 - reca - ETA: 16s - loss: 0.9391 - acc: 0.7415 - f1_m: 0.3679 - precision_ - ETA: 15s - loss: 0.9391 - acc: 0.7415 - f1_m: 0.3679 - precision_m: 0 - ETA: 15s - loss: 0.9391 - acc: 0.7415 - f1_m: 0.3679 - precision_m: 0.2427 - recall_m - ETA: 15s - loss: 0.93 - ETA: 14s - loss: 0.9391 - acc: 0.7415 - f1_m: 0.3680 - precision_m: - ETA: 14s - loss: 0. - ETA: 6 - ETA: 0s - loss: 0.9391 - acc: 0.7414 - f1_m: 0.3678 - precision_m: 0.2426 - recall_m: 0.7 - ETA: 0s - loss: 0.9391 - acc: 0.7414 - f1_m: 0.3678 - precision_m: 0.2425 - recall_m: 0.\n",
      "Epoch 7/50\n"
     ]
    },
    {
     "name": "stdout",
     "output_type": "stream",
     "text": [
      "5402595/5402595 [==============================] - 136s 25us/step - loss: 0.9393 - acc: 0.7415 - f1_m: 0.3680 - precision_m: 0.2427 - recall_m: 0.7721 - val_loss: 0.9383 - val_acc: 0.7568 - val_f1_m: 0.3757 - val_precision_m: 0.2512 - val_recall_m: 0.7543 0.3742 - precision_m: 0.2472  - ETA: 5:48 - loss: 0.9295 - acc: 0.7453 - f1_m: 0.3730 - precision_m: 0.2467 - recall_m: 0.775 - ETA: 5:45 - loss: 0.9282 - acc: 0.7456 - f1_m: 0.3737 - precision_m: - ETA: 4:14 - loss: 0.9381 - acc: 0.7413 - f1_m: 0.3706 - precisi - ETA: 3:14 - lo - ETA: 2:20 - loss: 0.9365 - acc: 0.7423 - f1_m: 0.3683 - precision_m: 0.2428 - ETA: 1:58 - loss: 0.9381 - a - ETA: 1:49 - loss: 0 - ETA: 19s - loss: 0.9396 - acc: 0.7414 - f1_m: 0.3678 - precision_m: 0.2425 - recall_m: 0. - ETA: 19s - loss: 0.9397 - acc: 0. - ETA: 18s - loss: 0.93 - ETA: 10s - loss: 0.9395 - acc: 0.7414 - f1_m: 0.3679 - precision_m: 0.2425 - recall_m: 0.77 - ETA: 10s - loss: 0.9395 - acc: 0.7414 - f1_m: 0.3679 - precision_m: 0.2425 -  - ETA: 10s - loss: 0.9394 - acc: 0.7414 - f1_m: 0.3679 - precision_m: 0.2426 - re - ETA: 10s - loss: 0.9394 - acc: 0.7414 - f1 - ETA: 7s - loss: 0.9394 - acc: 0.7414 - f1_m: 0.3680 - precision_m: 0.2427  - ETA: 6s - loss: 0.9393 - acc: 0.7415 - f1_m: 0.3680 - precision_m: 0.2 - ETA: 5s - loss: 0.9394 - acc: 0.7415 - f1_m: 0.3680 - precision_m: 0.2427 - recall_m: 0.7 - ETA: 5s - loss: 0.9394 - acc: 0.7415 - f1_m: 0.3680 - precision_m: 0.2427 - recall_m: - ETA: 5s - loss: 0.9394 - acc: 0.7415 - f1_m: 0.3680 - precision_m: 0.2427 - rec - ETA: 4s - loss: 0.9393 - acc: 0.7415 - f1_m: 0.3680 - precision_m: - ETA: 3s - loss: 0.9394 - acc: 0.7415 - f1_m: 0.3679 - precision_m: 0.2426 - recall_m: 0.772 - ETA: 3s - loss: 0.9394 - acc: 0.7415 - f1_m: 0.3679 - precision_m: 0.2426 - re - ETA: 2s - loss: 0.9394 - acc: 0.7414 - f1_m: 0.3680 - precision_m: 0.2427 - recal - ETA: 1s - loss: 0.9394 - acc: 0.7415 - f1_m: 0.3680 - preci\n",
      "Epoch 8/50\n",
      "5402595/5402595 [==============================] - 136s 25us/step - loss: 0.9392 - acc: 0.7417 - f1_m: 0.3682 - precision_m: 0.2429 - recall_m: 0.7721 - val_loss: 0.9394 - val_acc: 0.7621 - val_f1_m: 0.3789 - val_precision_m: 0.2548 - val_recall_m: 0.7478c: 0.7395 - f1_m: 0.3642 - precision_m:  - ETA: 4:33 - loss: 0.9438 - acc: 0.7408 - f1_m: - ETA: 3:10 - loss: 0.9394 - acc: 0.7422 - f1_m: 0.3 - ETA: 2:52 - loss: 0.9422 - acc: 0.7407 - f1_m: 0.3667 - precision_m: 0.2419 - recal - ETA: 2:46 - loss: 0.9427 - acc: 0.7408 - f1_m: 0.3669 - precision_m: 0.2421 -  - ETA: 2:38 - loss: 0.9413 - acc: 0.7415 - f1_m: 0.3671 - precision_m: 0. - ETA: 2:32 - loss: 0.9431 - acc: 0.7406 - f1_m: 0.3663 - precision_m: 0.2415 - recall_m: 0 - ETA: 2:33 - loss: 0.9432 - acc: 0.7 - ETA: 1:58 - loss: 0.9400 - acc: 0.7412 - f1_m: 0.3679 - prec - ETA: 1:54 - loss: 0.9407 - acc: 0.7408 - f1_m: 0.3678 - precision_m: 0.2425 - recall_m: -  - ETA: 1:47 - loss: 0.9408 - acc: 0.7412 - f1_m: 0.3672 - precision_m: 0.2 - ETA: 1:46 - loss: 0.9406 - acc: 0.7414 - f1_m: 0.3672 - precision_m: 0.2421 -  - ETA: 1:45 - loss: 0.9405 - acc: 0.7415 - f1_m: 0.3 - ETA: 1:35 - loss: 0.9402 - acc: 0.7418 - f1_m: 0.3679 - precision_m: 0.2427 - recall_m: - ETA: 1:34 - loss - ETA: 1:03 - loss: 0.9398 - acc: 0.7418  - ETA: 1:00 - loss: 0.9399 - acc: 0.7417 - f1_m: 0.3683 - precision - ETA: 59s - loss: 0.9399 - acc: 0.7418 - f1_m: 0.3683 - precision_m: 0.243 - ETA: 58s - loss: 0.9396 - acc: 0.7419 - f1_m: 0.3683 - precision_m: 0.2430 - recall_m: 0. - ETA: 58s - loss: 0.9396 - acc: 0.7419 - ETA: 57s - loss: 0.9395 - acc: 0.7419 - f1_m: 0.3684 - precision_m: 0.2430 - recall_m: 0. - ETA: 57s - loss: 0.9395 - acc: 0.7419 - f1_m: 0.3684 - precision_m: 0.2430 -  - ETA: 56s - loss: 0.9395 - acc - ETA: 55s - loss: 0. - ETA: 53s - loss: 0.9392 - acc: 0.7419 - f1_m: 0.3683 - precision_m: 0.2430 -  - ETA: 53s - loss: 0.9391 - acc: 0.7420 - f1_m: 0.3684 - precision_m: 0.2430 - recall_m - ETA: 53s - loss: 0.9391 - acc: 0.74 - ETA: 46s - loss: 0.9384 - acc: 0.7420 - f1_m: 0.3683 - prec - ETA: 45s - loss: 0.9384 - acc: 0.7420 - f1_m: 0.3684 - precision_ - ETA: 44s - loss: 0.9384 - a - ETA: 17s - loss: 0.9390 - acc: 0.7419 - f1_ - ETA: 11s - loss: 0.9 - ETA: 9s - loss: 0.9391 - acc: 0.741 - ETA: 6s - l - ETA: 1s - loss: 0.9390 - acc: 0.7418 - f1_m: 0.3683 - precisi\n",
      "Epoch 9/50\n",
      "5402595/5402595 [==============================] - 133s 25us/step - loss: 0.9391 - acc: 0.7416 - f1_m: 0.3681 - precision_m: 0.2428 - recall_m: 0.7722 - val_loss: 0.9368 - val_acc: 0.7342 - val_f1_m: 0.3631 - val_precision_m: 0.2376 - val_recall_m: 0.78049385 - acc: 0.7409 - f1_m: 0.3683 - precision_m:  - ETA: - ETA: 1:59 - loss: 0. - ETA: 1:53 - loss: 0.9366 - acc: 0.7423 - f1_m: 0.3684 - precision_m: 0.2431 - recall_m: 0.7 - ETA: 1:53 - loss: 0.9365 - acc: 0.7423 - f1_m: 0.3684 - precision - ETA: 1:54 - loss: 0.9373 - acc: 0.7423 - f1_m:  - ETA: 1:50 - loss: 0.9379 - acc: 0.7421 - f1_m: 0.3686 - precision_m: 0.2 - ETA: 1:48 - loss: 0.9384 - acc: 0.7422 - f1_m: 0.3686 - precision_m: 0.2432 - recall_m: 0.772 - ETA: 1:48 - loss: 0.9384 - acc: 0.7422 - f1_m: 0.3686 - precision_m: 0.2432 - recall_ - ETA: 1:49 - loss: 0.9383 - acc: 0.7423 - f1_m: 0.3685 - precision_m: 0.2432 - recall_m: 0.77 - ETA: 1:49 - loss: 0.9382 - acc: 0.7423 - f1_m: 0.3685 - precision_m: 0.2432 - - ETA: 1:48 - loss: 0.9379 - acc: 0.7425 - f1_m: 0.3686 - precision_m: 0.2432 - recall - ETA: 1:47 - loss: 0.9382 - acc: 0.7425 - f1 - ETA: 1:43 - loss: 0.9384 - acc: 0.7421 - f1_m: 0.3684 - precision_m: 0.2431 - recall_m - ETA: 1:42 - loss: 0.9386 - acc: 0.7419 - f1_m: 0.3683 - precision_m: 0.2430 - recall_m: 0.7 - ETA: 1:43 - loss: 0.9386 - acc: 0.7419 - f1_m: 0.3683 - precision_m: 0.2430 - recal - ETA: 1:39 - loss: 0.9385 - acc: 0.7419 - f1_m: 0.3680 - precision_m: 0.2427 - recall_ - ETA: 1:38 - loss: 0.9383 - acc: 0.7420 - f1_m: 0.3680 - precision_m: 0. - ETA: 1:37 - loss: 0.9387 - acc: 0.7418 - f1_m: 0.3679 - pr - ETA:  - ETA: 19s - loss: 0.9391 - acc: 0.7415 - f1_m: 0.3680 - precision_m: 0.2427 - re - ETA: 19s - loss: 0.9391 - acc: 0.7415 - - ETA: 4s - loss: 0.9391 - acc: 0.7416 - f1_m: 0.3680 - precision_m: 0.2427 - rec - ETA: 4s - loss: 0.9392 - acc: 0.7416 - f1_m: - ETA: 1s - loss: 0.9393 - acc: 0.7416 - f1_m: 0.3681 - precision_m: 0.2428 - recall_m: 0.77 - ETA: 1s - loss: 0.9392 - acc: 0.7416 - f1_m: 0.3681 - precision_m: 0\n",
      "Epoch 10/50\n"
     ]
    },
    {
     "name": "stdout",
     "output_type": "stream",
     "text": [
      "5402595/5402595 [==============================] - 129s 24us/step - loss: 0.9391 - acc: 0.7415 - f1_m: 0.3680 - precision_m: 0.2426 - recall_m: 0.7721 - val_loss: 0.9372 - val_acc: 0.7510 - val_f1_m: 0.3724 - val_precision_m: 0.2475 - val_recall_m: 0.76111_m: 0.3688 - - ETA: 1:41 - loss: 0.9384 - acc: 0.7415 - f1_m: 0.3682 - precision_m: 0.2428 - recall - ETA: 1:42 - loss: 0.9385 - acc:  - ETA: 1: - ETA: 1:30 - loss: 0.9378 - acc: 0.7421 - f1_m: 0.3689 - precision_m: 0.2432 - recall_m: 0.773 - ETA: 1:30 - l - ETA: 1:25 - loss: 0.9376 - acc: 0.7422 - f1_m: 0.3690 - precision_m: 0.2433 - recall_m:  - ETA: 1:25 - loss: 0.9376 - acc: 0.7421 - f1_m: 0.3690 - precision_m: 0.2433 - recall_m: 0 - ETA: 1:25 - loss: 0.9378 - acc: 0.7421 - f1_m: 0.3689 - precision_m: 0.2432 - reca - ETA: 1:25 - loss: 0.9377 - acc: 0.7421 - f1_m: 0.3687 - preci - ETA: 1:26 - loss: 0.9380 - acc: 0.7421 - f1_m: 0.3688 - precision_m: 0.2432 - recall_m: 0.773 - ETA: 1:26 - loss: 0.9379 -  - ETA: 4s - loss: 0.9384 - acc:\n",
      "Epoch 11/50\n",
      "5402595/5402595 [==============================] - 148s 27us/step - loss: 0.9391 - acc: 0.7416 - f1_m: 0.3680 - precision_m: 0.2427 - recall_m: 0.7720 - val_loss: 0.9381 - val_acc: 0.7283 - val_f1_m: 0.3596 - val_precision_m: 0.2341 - val_recall_m: 0.7855 - f1_m: 0. - ETA: 1:47 - loss: 0.9412 - acc: 0.7422 - f1_m: 0. - ETA: 1:44 - loss: 0.9415 - acc: 0.7419 - f1_m: 0.3696 - precision_m: 0.2442 - recall_m: 0. - ETA: 1:44 - - ETA: 1:39 - loss: 0.9390 - acc: 0.742 - ETA: 1:37 - loss: 0.9392 - acc: 0.7428 - f1_m: 0.3692 - precision_m: 0.2439 - recall_m: 0 - ETA: 1:36 - loss: 0.9390 - acc: 0.7429 - f1_m: 0.3692 - precision_m: 0.24 - ETA: 1:35 - loss: 0.9388 - acc: 0.7429 - f1_m: 0.3692 - precision_m: 0.2439 - recall_m - ETA: 1:35 - loss: 0.9388 - acc: 0.7429 - f1_m: 0.3693 - precision_m: 0.2439 - recall_m:  - ETA: 1:36 - loss: 0.9387 - acc: 0.7429 - f1_m: 0.3693 - precision_m: 0.2439 - recall_m: 0 - ETA: 1:36 - loss: 0.9388 - acc: 0.7429 - f1_m: 0.36 - ETA: 1:34 - loss: 0.9395 - acc: 0.7426 - f1_m: 0.3691 - precision - ETA: 1:32 - loss: 0.9397 - acc: 0.7424 - f1_m: 0.3689 - precision_m: 0.2436 -  - ETA: 1:31 - loss: 0.9399 - acc: 0.7423 - f1_m: 0.3687 - precision_m: 0.2434 - recall_m: 0.7 - ETA: 1:31 - loss: 0.9398 - acc: 0.7423 -  - ETA: 1:28 - loss: 0.9390 - acc: 0.7425 - f1_m: 0.368 - ETA: 1:25 - loss: 0. - ETA: 1:11 - loss: 0.9394 - acc: 0.7419 - f1_m: 0.3684 - precision_m: 0.2431 - recall_m: 0. - ETA: 1:11 - loss: 0.9393 - acc: 0.7419 - f1_m: 0.3683 - precision_m: 0.2 - ETA: 1:11 - loss: 0.9392 - acc: 0.7 - ETA: 1:09 - loss: 0.9393 - acc: 0.7417 - f1_m: 0.3681 - precision_m: 0.2429 - rec - ETA: 1:08 - loss: 0.9392 - acc: 0.7417 - f1_m: 0.3682 - precision_m: 0.2429 - recall_m: 0. - ETA: 1:08 - loss: 0.9391 - acc: 0.7417 - f1_m: - ETA: 1:06 - loss: 0.9390 - acc: 0.7417 - f1_m: - ETA: 1:03 - loss: 0.9391 - acc: 0.7417 - f1_m: 0.3685 - precision_m: 0.2431 - recall_m: 0.7 - ETA: 1:02 - loss: 0.9390 - acc: 0.7417 - f1_m: 0.3685 - precisi - ETA: 1:02 - loss: 0.9389 - acc: 0.7418 - f1_m: 0.3685 - precision_m: 0.2431 - recall_m: 0 - ETA: 1:02 - loss: 0.9390 - acc: 0.7417 - f1_m - ETA: 1:00 - loss: 0.9385 - acc: 0.7420 - f1_m: 0.3686 - precision_m: 0.2432 - recall_m: 0 - ETA: 1:00 - loss: 0.9384 - acc: 0.7420 - f1_m: 0.3686 - precision_m: 0.2432 - recal - ETA: 1:00 - loss: 0.9386 - acc: 0.7419 - f1_m: 0.3685 - precision_m: 0.2432 - recall_m: 0.77 - ETA: 1:00 - loss: 0.9386 - acc: 0.7419 - f1_m: 0. - ETA: 59s - loss: 0.9387 - acc: 0.74 - ETA: 58s - loss: 0.9388 - acc: 0.7418 - f1_m: 0.3685 - precision_m: 0.2431 - recall_m: 0.77 - ETA: 58s - loss: 0.9387 - acc: 0.7418 - f1_m: - ETA: 57s - loss: 0.9388 - acc: 0.7417 - f1_m: 0.3685 - precision_m: 0 - ETA: 57s  - ETA: 56s - loss: 0.9391 - acc: 0.7417 - f1_m: 0.3686 - precision_m: 0.2431 - recall_m:  - ETA: 55s - loss: 0.9391 - acc: 0.7417 - f1_m: 0.3686 - precision_m: 0.2 - ETA: 55s - loss: 0.9390 - acc: 0.7417 - f1_m: 0.3687 - precision_m: 0.2432 - recall_m: 0. - ETA: 55s - loss: 0.9389 - acc:  - ETA: 53s - loss: 0.9389 - acc: 0.7418 - f1_m: 0.3686 - precision_m: 0.2431 - recall_m: 0. - ETA: 53s - loss: 0.9389 - acc: 0.7418 - f1_m: 0.3686 - precision_m: 0.2431 -  - ETA: 53s - loss: 0.9390 - acc: 0.7417 - f1_m: 0.3686 - precision_m: 0.2431 - recall_m: 0.77 - E - ETA: 53s - loss: 0.9390 - acc: 0.7417 - f1_m: 0.3686 - precision_m: 0.2 - ETA: 50s - loss: 0.9388 - acc: 0.7416 - f1_m: 0.3 - ETA: 49s - loss: 0.9387 - acc: 0.7417 - f1_m: 0.3685 - precision_m: 0.2431 -  - ETA: 48s - loss: 0.9386 - acc: 0.7418 - f1_m: 0.3685 - precision_m: 0.2431 - recall_m:  - ETA: 48s - loss: 0.9386 - acc: 0.7418 - f1_m: 0.3686 - precision_m: 0 - ETA: 48s - loss: 0.9387 - acc: 0.7418 - f1_m: 0.3685 - pr - ETA: 48s - loss: 0.9388 - acc: 0.7417 - f1_m: 0.3685 - precision_m: 0.2431 - recall_m: 0. - ETA: 48s - loss: 0.9387 - acc: 0.7417 - f1_m: 0.3685 - precision_m: 0.2431 -  - ETA: 47s - loss: 0.9386 - acc: 0.7418 - f1_m: 0.3685 - precision_m: 0.2431 - recall_m - ETA: 48s - loss: 0.9386 - acc: 0.7418 - f1_m: 0.3685 - precision_m: 0.2431 - recall_m: 0. - ETA: 48s - loss: 0.9386 - - ETA: 43s - loss: 0.9385 - acc: 0.7417 - f1_m: - ETA: 41s - loss: 0.9386 - acc: 0.7417 - f1_m: 0.3684 - precision_m: 0.2430 - recall_m:  - ETA: 41s - loss: 0.9385 - acc: 0.7417 - f1_m: 0.3684 - precision_m: 0.2430 - recall_m:  - ETA: 41s - loss: 0.9385 - acc: 0.7417 - f1_m: 0.3684 - precision_m: 0.2430 - recall - ETA: 41s - loss: 0.9385 - acc: 0.7417 - f1_m: 0.3685 - precisio - ETA: 40s - loss: 0.9386 - acc: 0.7417 - f1_m: 0.3684 -  - ETA: 39s - loss: 0.9386 - acc: 0.7417 - f1_m: 0.3683 - precision_m: 0.242 - ETA: 38s - lo - ETA: 36s - loss: 0.9385 - acc: 0.7416 - f1_m: 0.3683 - prec - ETA: 35s - loss: 0.9386 - acc: 0.7416 - - ETA: 33s - loss: 0.9385 - acc: 0.7417 - f1_m: 0.3 - ETA: 32s - loss: 0.9383 - acc: 0.7418 - f1_m: 0.3684 - precision_m: 0.2430 - recall_m: 0. - ETA: 32s - loss: 0.9383 - acc: 0. - ETA: 30s - loss: 0.9384 - ETA: 28s - loss: 0.9385 - acc: 0.7417 - - ETA: 26s - loss: 0.9 - ETA: 2s - loss: 0.9390 - acc: 0.7416 - f1_m: 0.3680 - precision_m: 0.24 - ETA: 0s - loss: 0.9390 - acc: 0.7416 - f1_m: 0.3680 - precision_m: 0.2427 - recal\n",
      "Epoch 12/50\n"
     ]
    },
    {
     "name": "stdout",
     "output_type": "stream",
     "text": [
      "5402595/5402595 [==============================] - 139s 26us/step - loss: 0.9390 - acc: 0.7414 - f1_m: 0.3679 - precision_m: 0.2425 - recall_m: 0.7720 - val_loss: 0.9388 - val_acc: 0.7590 - val_f1_m: 0.3769 - val_precision_m: 0.2526 - val_recall_m: 0.7513s: 0.9385 - acc: 0.7419 - f1_m: 0.3706 - precision_m: 0.2446 - recal - ETA: 1:53 - loss: 0.9385 - acc: 0.7420 - f1_m: 0.3706 - precision_m: 0.2446 - reca - ETA: 1:53 - loss: 0.9387 - acc: 0.7420 - f1_m: 0.3705 - precision_m: 0.2445 - recall_m - ETA: 1:52 - loss: 0.9390 - acc: 0.7418 - f1_m: 0.3701 - p - ETA: 1:49 - loss: 0.9394 - acc: 0.7417 - f1_m: 0.3699 - precision - ETA: 1:47 - loss: 0.9388 - acc: 0.7417 - f1_m: 0.3697 - precision_m: 0.24 - ETA: 1:47 - loss: 0 - ETA: 1:43 - loss: 0.9387 - acc: 0.7415 - f1_m: 0.3690 - precision_m: 0.2434 - re - ETA: 1:43 - loss: 0.9388 - acc: 0.7414 - f1_m: 0.3689 - - ETA: 1:42 - loss: 0.9388 - acc: 0.7415 - f1_m: 0.3689 - precision_m: 0.2433 - recall_m: 0.7 - ETA: 1:42 - loss: 0.9387 - acc: 0.7415 - f1_m: 0.3 - ETA: 1:40 - loss: 0.9393 - acc: 0.7412 - f1_m: 0.3688 - precision_m: 0.2432 - recall_m: 0 - ETA: 1:40 - loss: 0.9394 - acc: 0 - ETA: 1:35 - loss: 0.9393 - acc: 0.7412 - f1_m: 0.3688 - precision_m: 0.2432 - recall_m: 0.773 - ETA: 1:35 - loss: 0.9392 - acc: 0.74 - ETA: 1:31 - loss: 0.9392 - acc: 0.7415 - f1_m: 0.3686 - precision_m: 0.2431 - re - ETA: 1:30 - loss: 0.9393 - - ETA: 1:26 - loss: 0.9393 - acc: 0.7415 - f1_m: 0.3686 - precision_m: 0.2431  - ETA: 55 - ETA: 52s - loss: 0.9402 - acc: 0.7410 - f1_m: 0.3678 - precision_m: 0.242 - ETA: 51s - loss:  - ETA: 42s - loss: 0.9399 - acc: 0.7412 - f1_m: 0.3679 - precision_ - ETA: 42s - loss: 0.9396 - acc: 0.7413 - f1_m: 0.3679 - precis - ETA: 40s - loss: 0.9397 - acc: 0.7413 - f1_m: 0.3680 - precision_m: 0.2426 - recall_m - ETA: 40s - loss: 0.9397 - acc: 0.7413 - f1_m: 0.3680 - precision_m: 0.2426 - reca - ETA: 40s - loss: 0.9398 - acc: 0.7413 - f1_m: 0.3679 - precisio - ETA: 39s - loss: 0.9400 - acc: 0.7412 - f1_m: 0.3679 - precision_m: 0.2425 - reca - ETA: 39s - loss: 0.9398 - acc: 0.7413 - f1_m: 0.3679 - precision_m: 0.2426 - recall_m: 0. - ETA: 39s - loss: 0.9398 - a - ETA: 31s - loss: 0.9395 - acc: 0.7413 - f1_m: 0.3679 - precision_m: 0.2426 -  - ETA: 31s - loss: 0.9395 - acc: 0.7413 - f - ETA: 29s - loss: 0.9395 - acc: 0.7413 - f1_m: 0.368 - ETA: 28s - loss: 0.9395 - acc: 0.7413 - f1_m: 0.368 - ETA: 27s - loss: 0.9394 - ETA: 20s - loss: 0.9390 - acc: 0.7414 - f1_m: 0.3680 - pr - ETA: 19s - loss: 0.9389 - acc: 0.7414 - f1_m: 0.3680 - precision_m: 0.242 - ETA: 18s - loss: 0.9389 - acc: 0.7415 - f1_m: 0.3680 - precision_m: 0.242 - ETA: 18s - loss: 0.9388 - acc: 0.7415 - f1_m: 0.3680 - precision_m: 0.2426 -  - ETA: 17s - loss: 0.9387 - acc: 0.7416 - f1_m: 0.3680 - precision_m: 0.2426 - recall_m: 0. - ETA: 17s - loss: 0.9387 - acc - ETA: 13s - loss: 0.9385 - acc: 0.7417 - f1_m: 0.3681 - precision_m: 0.242 - ETA: 13s - loss: 0.9384 - acc: 0.7417 - f1_m: 0.3681 - precision_m: 0.2427 - reca - ETA: 13s - loss: 0.9384 - acc: 0.7417 - f1_m: 0.3681 - precision_m: 0.2427 - recall_m:  - ETA: 13s - loss: 0.9384 - acc: 0.7417 - f1_m: 0.3681 - precision_m: 0.2427 -  - ETA: 13s - los - ETA: 7s - loss: 0.9388 - acc: 0.7415 - f1_m: 0.3680 - precision_m: 0.2427 - recall_m: 0. - ETA: 7s - loss: 0.9387 - acc: 0.7415 - f1_m: 0.3681 - precision_m: 0.2427 - recall_m: 0.77 - ETA: 7s - loss: 0.9387 - acc: 0.7415 - f1_m: 0.3681 - precision_m: 0.2427 - r - ETA: 6s - loss: 0.9388 - acc: 0.7415 - f1_m: 0.368 - ETA: 3s - loss: 0.9389\n",
      "Epoch 13/50\n",
      "5402595/5402595 [==============================] - 145s 27us/step - loss: 0.9390 - acc: 0.7417 - f1_m: 0.3682 - precision_m: 0.2428 - recall_m: 0.7720 - val_loss: 0.9389 - val_acc: 0.7202 - val_f1_m: 0.3556 - val_precision_m: 0.2299 - val_recall_m: 0.7950: 0.9522 - acc: 0.7386 - f1_m: 0.3749 - precision_m: 0.247 - ETA: 3:50 - loss: 0.9239 - acc: 0.7481 - f1_m: 0.3726 - precision_m:  - ETA: 3:09 - loss: 0.9294 - acc: 0.7451 - f1_m: 0.3704 - precision_m: 0.2447 - recall_m - ETA: 3:00 - loss: 0.9343 - acc: 0.7427 - f1_m: 0.3683 - precision_m: 0.2429 - recall_m: 0.772 - ETA: 3:02 - loss: 0.9351 - acc: 0.7427 - f1_m: 0.3684 - precision_m: 0.2430 - recall_m: 0.7 - ETA: 3:01 - loss: 0.9347 - acc: 0.7421 - f1_m: 0.3681 - precision_m: 0.2426 - recall_m: 0.77 - ETA: 3:01 - loss: 0.9347 - acc: 0.7420 - f1_m: 0.3673 - preci - ETA: 2:48 - loss: 0.9386 - acc: 0.7414 - f1_m: 0.36 - ETA: 2:32 - loss: 0.9405 - acc: 0.7418 - f1_m: 0.3697 - precision_m: 0.2440 - recall_m:  - ETA: 2:30 - loss: 0.9416 - acc: 0.7412 - f1_m: 0.3695 - precision_m: 0.2439 - recall_m: 0 - ETA: 2:31 - loss: 0.9406 - acc: 0.7416 - f1_m: 0.3697 - precision_m: 0.2440 - - ETA: 2:28 - loss: 0.9430 - acc: - ETA: 2:18 - loss: 0.9450 - acc: 0.7405 - f1_m: 0.3686 - precision_m: 0.2433 - recall_m:  - ETA: 2:17 - loss: 0.9449 - acc: 0.7406 - f1_m: 0.3684 - precision - ETA: 2:15 - loss: 0.9450 - acc: 0.7402 - f1_m: 0.3681 - precision_m: 0.2429 - re - ETA: 2:15 - loss: 0.9442 - acc: 0.7403 - f1_m: 0.3684 - preci - ETA: 2:13 - loss: 0.9427 - acc: 0.7408 - f1_m: 0.3680 - p - ETA: 2:10 - loss: 0.9417 - acc: 0.7412 - f1_m: 0.3685 - precision_m: 0.2432 - reca - ETA: 2:10 - loss: 0.9419 - acc: 0.7410 - f1_m: 0.3685 - precision_m: 0.2431 - recal - ETA: 2:09 - lo - ETA: 2:01 - loss: 0.9399 - ac - ETA: 1:54 - loss: 0.9390 - acc: 0.7421 - f1_m: 0.3684 - precision_m: 0.2431 - - - ETA: 1:47 - loss: 0.9402 - acc: 0.7419 - f1_m: 0.368 - ETA: 1:45 - loss: 0.9399 - acc: 0.7419 - f1_m: 0.3684 - pre - ETA: 1:42 - loss: 0.9401 - acc: 0.7420 - f1_m: 0.3682 - precision_m: 0.24 - ETA: 1:41 - loss: 0.9398 - acc: 0.7422 - f1_m: 0.3683 - pr - ETA: 1:40 - loss: 0.9402 - acc: 0.7420 - f1_m: 0.3680 - precision_m: 0.2428 - recall - ETA: 1:39 - l - ETA: 1:36 - loss: 0.9397 - acc: 0.7420 - f1_m: 0.3680 - precision_m: 0.2428 - recal - ETA: 1:35 - loss: 0.9397 - acc: 0.7419 - f1_m: 0.3679 - precision_m: 0.2427 - recall_m: 0 - ETA: 1:34 - loss: 0.9399 - acc: 0.7419 - f1_m: 0.3678 -  - ETA: 1:34 - loss: 0.9397 - acc: 0.7418 - f1_m: 0.3679 - precision_m: - ETA: 1:33 - loss: 0.9395 - acc: 0.7418 - f1_m: 0.3679 - precision_m: 0.2426 - recall_m: 0.77 - ETA: 1:33 - ETA: 1:27 - lo - ETA: 1:22 - loss: 0.9401 - acc: 0.7415 - f1_m: 0.3678 - precision_m: 0.2425 - recall_m: 0.7 - ETA: 1:21 - loss: 0.9400 - acc: 0.7415 - f1_m: 0.3678 - precision_m: 0.2425 - recall_m - ETA: 1:21 - loss: 0.9399 - acc: 0.7416 - f1_m: 0.3678 - precision - ETA: 1:11 - loss: 0.9395 - acc: 0.7418 - f1_m: 0.3683 - precision_m: 0.2430 - recall_m: 0.7 - ETA: 1:11 - loss: 0.9396 - acc: 0.7418 - f1_m: 0.3 - ETA: 1:08 - loss: 0.9395 - acc: 0.7417 - f1_m: 0.3683 - precision_m: 0.2429 - recall - ETA: 1:08 - loss: 0.9396 - acc: 0.7416 - f1_m: 0.3682 - precision_m: 0.2429 - recall_m - ETA: 40s - loss: 0.9396 - acc: 0. - ETA: 34s - loss - ETA: 23s - loss: 0.9394 - acc: 0.7415 - f1_m: 0.3681 - precision_m: 0.2427 - recall_m:  - ETA: 22s - loss: 0.9394 - acc: 0.7415 - f1_m: 0 - ETA: 21s - loss: 0.9393 - acc: 0.7416 - f1_m: 0.3681 - precision_m - ETA: 9s - loss: 0.9392 - acc: 0.7417 - f1_m: 0.3682 - precision_m: 0.2429 - recall_m: 0.77 - ETA: 9s - loss: 0.9392 - acc: 0.7417 - f1_m: 0.3682 - precision_m: 0.2429 - recall_m:  - ETA: 9s - loss: 0.9392 - acc: 0.7417 - f1_m: 0.3682 - precision_m: 0.2428 - recall_m: - ETA: 8s - loss: 0.9392 - acc: 0.7417 - f1_m: 0.3682 - precision_m: 0.2428 - recall - ETA: 8s - loss: 0.9391 - acc: 0.7417 - f1_m: 0.3682 - precision_m: 0.2429 - recall_m: 0.77 - ETA: 8s - loss: 0.9391 - acc: 0.7418 - f1_m: 0.3682 - precision_m: 0.242 - ETA: 7s - loss: 0.9390 - acc: 0.7418 - f1_m: 0.3682 - precision_m: 0.2429 - rec - ETA: 7s - loss: 0.9390 - acc: 0.7418 - f1_m: 0.3682 -  - ETA: 6s - loss: 0.9392 - acc: 0.7417 - f1_m: 0.3682 - precision_m: 0.2428 - recall_m: 0 - ETA: 6s - loss: 0.9391 - acc: 0.7417 - f1_m: 0.3682 - pre - ETA: 4s - loss: 0.9392 - acc: 0.7417 - f1_m: 0.3682 - precision_m: 0.2 - ETA: 3s - loss: 0.9390 - acc: 0.7418 - f1_m: 0.3683  - ETA: 0s - loss: 0.9390 - acc: 0.7417 - f1_m: 0.3682 - precision_m: 0.2428 - r\n",
      "Epoch 14/50\n"
     ]
    },
    {
     "name": "stdout",
     "output_type": "stream",
     "text": [
      "5402595/5402595 [==============================] - 142s 26us/step - loss: 0.9390 - acc: 0.7414 - f1_m: 0.3680 - precision_m: 0.2426 - recall_m: 0.7726 - val_loss: 0.9368 - val_acc: 0.7396 - val_f1_m: 0.3661 - val_precision_m: 0.2407 - val_recall_m: 0.7747 - ETA: 39s - loss: 0.9387 - acc: 0.7408 - f1_m: 0.3680 - precis - ETA: 39s - loss: 0.9386 - acc: 0.7409 - f1_m: 0.3680 - precision_m: 0.2425 - recall_m: 0. - ETA: 39s - loss: 0.9386 - acc: 0.7409 - f1_m: 0.3680 - precision_m: 0.2425 - re - ETA: 39s - loss: 0.9386 - acc: 0.7409 - f1_m: 0.3679 - precision_m: 0.2425 - reca - ETA: 39s - loss: 0.9386 - acc: 0.7409 - f1_m: 0.3679 - precision_m: 0.2425 - recall_m:  - ETA: 39s - loss: 0.9387 - acc: 0.7409 - f1_m: 0.3679 - precision_m: 0.2425 - recall_m: 0. - ETA: 39s - loss: 0.9386 - acc: 0.7409 - f1_m: 0.3680 - precision_m: 0.2 - ETA: 39s - loss - ETA: 32s - loss: 0.9388 - acc: 0.7409 - f1_m: 0.3679 - precisio - ETA: 31s - loss: 0.9388 - acc: 0.7409 - f1_m: 0.3679 - precision_m: 0.2425 - recall_m: 0.77 - ETA: 31s - loss: 0.9388 - acc: 0.7409 - f1_m: 0.3679 - prec - ETA: 30s - loss: 0.9388 - acc: 0.7409 - f1_m: 0.3680 - precision_m: 0.2425 - recall_m: 0.77 - ETA: 30s - loss: 0.9388 - acc: 0.7409 - f1_m: 0.3680 - precis - ETA: 30s - loss: 0.9387 - acc: 0.7409 - f1_m: 0.3680 - precision_m: 0.2425 - reca - ETA: 30s - loss: 0.9387 - acc: 0.7409 - f1_m: 0.3680 - precision_m: 0.2 - ETA: 30s - loss: 0.9387 - acc: 0.7409 - f1_m: 0.3680 - precision_m: - ETA: 30s - loss: 0.9389 - acc: 0.7409 - f1_m: 0.3680 - precision_m: 0.2425 - reca - ETA: 29s - loss: 0.9389 - acc: 0.7409 - ETA: 28s - loss: 0.9390 - acc: 0.7408 - f1_m: 0.3680 - precision_m: 0.2425 - recall_m: 0.77 - ETA: 28s - loss: 0.9390 - acc: 0.7408 - f1_m: 0.3680 - precision_m: 0.2425 - recall_m: 0. - ETA: 28s - loss: 0.9390 - acc: 0.7408 - f1_m: 0.3680 - precis - ETA: 28s - loss: 0. - ETA: 24s - loss: 0.9392 - acc: 0.7408 - f1_m: - ETA: 23s - loss: 0.9393 - acc: 0.7409 - f1_m: 0.3681 - precision_ - ETA: 22s - loss: 0.9392 - acc: 0.7409 - f1_m: 0.3681 - precision_ - ETA: 22s - loss: 0.9393 - acc: 0.7409 - f1_m: 0.3682 - precision_m: 0.2427 - recall_m:  - ETA: 22s - loss: 0.9393 - acc: 0.7409 - f1_m: 0.3682 - precision_m: 0.2427 - re - ETA: 22s - loss: 0.9393 - acc: 0.7409 - f1_m: 0.3682 - precision_m: 0.2427 -  - ETA: 21s - loss: 0.9393 - acc: 0.7409 - f1_m: 0.3681 - precision_m: 0.2 - ETA: 21s - loss: 0.9392 - acc: 0.7409 - f1_m: 0 - ETA: 20s - loss: 0.9391 - acc: 0.7410 - f1_m: 0.3681 - precision_m: 0.2427 -  - ETA: 20s - loss: 0.9391 - acc: 0.7410 - f1_m: 0.3681 - prec - ETA: 19s - loss: 0.9390 - acc: 0.7411 - f1_m: 0.3681 - precision_m: 0.2427 - recall_m: 0.77 - ETA: 19s - loss: 0.9390 - acc: 0.7411 - f1_m: 0.3681 - prec - E - ETA: 16s - loss: 0.9391 - acc: 0.7411 - f1_m: 0.3681 - precision_m: 0.2426 - recall_m: 0. - ETA: 10s - loss: 0.9393 - acc: 0.7411 - f1_m: 0.3680 - precision_m: 0.2426 - recall - ETA: 10s - loss: 0.9393 - acc: 0.7411 - f1_m: 0.3680 - precision_ - ETA: 9s - loss: 0.9394 - - ETA: 5s - loss: 0.9392 - acc: 0.7412 - f1_m: 0.3680 - precision_m: 0.2426 - recall_m: 0.772 - ETA: 5s - loss: 0.9392 - acc: 0.7412 - f1_m: 0.3680 - precision_m:  - ETA: 4s - loss: 0.9391 - acc: 0.7413 - f1_m: 0.3680 - precision_m: 0.2426 - recall_m: 0.772 - ETA: 4s - loss: 0.9391 - acc: 0.7413 - f1_m: 0.3680 - precision_m: 0.2426 - recall_m: 0. - ETA: 4s - loss: 0.9391 - acc: 0.7413 - f1_m: 0.3680 - precision_m: 0.2426 - recall_m: - ETA: 4s - loss: 0.9391 - acc: 0.7413 - f1_m: 0.3680 - precision_m: 0.2426 - recall - ETA: 3s - loss: 0.9391 - acc: 0.7413 - f1_m: 0.3680 - precision - ETA: 2s - loss: 0.9390 - acc: 0.7413 - f1_m: 0.3680\n",
      "Epoch 15/50\n",
      "5402595/5402595 [==============================] - 131s 24us/step - loss: 0.9389 - acc: 0.7417 - f1_m: 0.3681 - precision_m: 0.2427 - recall_m: 0.7720 - val_loss: 0.9371 - val_acc: 0.7396 - val_f1_m: 0.3660 - val_precision_m: 0.2406 - val_recall_m: 0.7743 ETA: 1s - loss: 0.9390 - acc: 0.7416 - f1_m: 0.3681 - precision\n",
      "Epoch 16/50\n"
     ]
    },
    {
     "name": "stdout",
     "output_type": "stream",
     "text": [
      "5402595/5402595 [==============================] - 148s 27us/step - loss: 0.9388 - acc: 0.7419 - f1_m: 0.3683 - precision_m: 0.2430 - recall_m: 0.7718 - val_loss: 0.9374 - val_acc: 0.7377 - val_f1_m: 0.3650 - val_precision_m: 0.2395 - val_recall_m: 0.77677 - acc: 0.7408 - f1_m: 0.3672 - precision_m: 0.2419 - re - ETA: 1:20 - loss: 0.9398 - acc: 0.7407 - f1_m: 0.3670 - precision_m: 0.2 - ETA: 1:20 - loss: 0.9396 - acc: 0.7408 - f1_m: 0.3669 - precision_m: 0.2418 -  - ETA: 1:19 - loss: 0.9399 - acc: 0.7405 - f1_m: 0.3668 - precision_m: 0.2416 - recall_m: - ETA: 1:19 - loss: 0.9401 - acc: 0.7404 - f1_m: 0.3667 - precision_m: 0.2416 - rec - ETA: 1:19 - loss: 0.9399 - acc: 0.740 - ETA: 1:17 - loss: 0.9401 - acc: 0.74 - ETA: 1:15 - loss: 0.9403 - acc: 0.7404 - f1_m: 0.3674 - precision_m: 0.24 - ETA: 1:14 - loss: 0.9403 - acc: 0.7405 - f1_m: 0.3674 - precision_m: 0.2421 - recall_m: 0 - ETA: 1:13 - loss: 0.9404 - acc: 0.7404 - f1_m: 0.3675 - precision_m:  - ETA: 1:12 - loss: 0.9400 - acc: 0.7406 - f1_m: 0.3676 - precision_m: 0.2423 - recall_ - ETA: 1:12 - loss: 0.9397 - acc: 0.7406 - f1_m: 0.367 - ETA: 1:10 - loss: 0.9394 - acc: 0.7408 - f1_m: 0.3677 - precision_m: 0.2423 - recal - ETA: 1:10 - loss: 0.9394 - acc: 0.7408 - f1_m: 0.3677 - p - ETA: 1:09 - loss: 0.9398 - acc: 0.7406 - f1_m: 0.3 - ETA: 1:07 - loss: 0.9398 - acc: 0.7406 - f1_m: 0.3676 - precision_m: 0.2423 - reca - ETA: 1:06 - loss: 0.9398 - acc: 0.7407 - f1_m: 0.3677 - precision - ETA: 1:05 - loss: 0.9396 - acc: 0.7408 - f1_m: 0.3678 - precision_m: 0.2424 - recall_m: 0.7 - ETA: 1:05 - loss: 0.9396 - acc: 0.7408 - f1_m: 0.3678 - precision_m: 0.2424 - re - ETA: 1:05 - loss: 0.9393 - acc: 0.7409 - f1_m: 0.3678 - precision_m: 0.2424 - recall_m: - ETA: 1:05 - loss: 0.9393 - acc: 0.7409 - f1_m: 0.3678 - precision_m: 0.2424 - ETA: 1:04 - loss: 0.9392 - acc: 0.7410 - f1_m: 0.3679 - precision_m: 0.2425 - recall_m: 0.772 - ETA: 1:04 - loss: 0.9393 - acc: 0.7410 - f1_m: 0.3679 - precision_m: 0.2425 - recall_m - ETA: 1:04 - loss: 0.9395 - acc: 0.7409 - f1_m: 0.3679 - precision_m: 0.2425 - recall_m:  - ETA: 1:04 - loss - ETA: 47s - loss: 0.9395 - acc: 0.7409 - f1_m: 0.3682 - precision_m: 0.2427 - recall_m: 0. - ETA: 47s - loss:  - ETA: 46s - loss: 0.9393 - acc: 0.7410 - f1_m: 0.3681  - ETA: 43s - loss: 0.9390 - acc: 0.7411 - - ETA: 41s - loss: 0.9390 - acc: 0.7411 - f1_m: 0.3681 - precision_m: 0.2426 - recall_m:  - ETA: 41s - loss: 0.9390 - acc: 0. - ETA: 40s - loss: 0.9389 - acc: 0.7413 - f1_m: 0.3681 - precision_m: 0.2 - ETA: 39s - loss: 0.9389 - acc: 0.7413 - f1_m: 0.3681 - precision_m: 0.2427 -  - ETA: 39s - loss: 0.9388 - acc: 0.7414 - f1_m: 0.3682 - precision_ - ETA: 39s - loss: 0.93 - ETA: 37s - loss: 0.9386 - acc: 0.7414 - f1_m: 0.3683 - precision_m: 0.2428 - recall_m: 0.77 - ETA: 37s - lo - ETA: 34s - loss: 0.9383 - acc: 0.7417 - f1_m: 0.3685 - precision_m: 0.2430 - re - ETA: 34s - loss: 0.9381 - acc: 0.7417 - f1_m: 0.3685 - precision_m: 0.2430 - recall - ETA: 33s - loss: 0.9381 - acc: 0.7418 - f1_m: 0.3685 - precision_m: 0.2430 -  - ETA: 33s - loss: 0.9382 - acc: 0.7417 - f1_m: 0.3685 - pr - ETA: 32s - loss: 0.9384 - acc: 0.7417 - f1_m: 0.3685 - precision_m: 0.2 - ETA: 32s - loss: 0.9384 - acc: 0.7417 - f1_m: 0.3685 - precision_m: 0.2430 - recall_m: 0.77 - ETA: 32s - loss: 0.9384 - acc: 0.7417 - - ETA: 31s - loss: 0.9383 - acc: 0.7418 - f1_m: 0.3685 - precision_m: 0.2431 - re - ETA: 31s - loss: 0.9383 - acc: 0.7418 - f1_m: 0.3685 - precision_m: 0.2430 - recall_m: 0.77 - ETA: 31s - loss: 0.9383 - acc: 0.7418 - f1_m: 0.3685 - precision_m: 0.2430 - recall_m: 0. - ETA: 31s - loss: 0.9383 - acc: 0.7418 - f1_m: 0.3685 - precision_m: 0.2430 - recall_m: 0.77 - ETA: 31s - loss: 0.9383 - acc: 0.7418 - f1_m: 0.3685  - ETA: 30s - loss: 0.9382 - acc: 0.7418 - f1_m: 0.3685 - precision_m: 0.2430 - recall - ETA: 30s - loss: 0.9382 - acc: 0.7418 - f1_m: 0.3685 - precision_ - ETA: 30s - loss: 0.9382 - acc: 0.7419 - f1_m: 0.3685 - precision_m: 0.2431 - recall_m: 0. - ETA: 30s - loss: 0.9382 - acc: 0.7419 - f1_m: 0.3685 - precision_m: 0.2431 - recall_m:  - ETA: 30s - loss: 0.9382 - acc: 0.7419 - f1_m: 0 - ETA: 29s - loss: 0.9382 - acc: 0.7419 - f1_m: 0.3 - ETA: 28s - loss: 0.9382 - acc: 0.7418 - - E - ETA: 24s - loss: 0. - ETA: 22s - loss: 0.9386 - acc: 0.7418 - f1_m: 0.3685 - precision_m: 0.2430 - re - ETA: 22s - loss: 0.9386 - acc: 0.7418 - f1_m: 0.3685 - pr - ETA: 21s - loss: 0.9385 - acc: 0.7420 - f1_ - ETA: 19s - loss: 0.9387 - acc: 0.7419 - f1_m: 0.3685 - precision_m: 0.2431 - recall_m:  - ETA: 19s - loss: 0.9386 - acc: 0.7419 - f1_m: 0.3685 - precision_m: 0.2 - ETA: 19s - loss: 0.9386 - acc: 0.7419 - f1_m: 0.3 - ETA: 18s - loss: 0.9389 - acc: 0.7418 - f1_m: 0.3686 - precision_m: 0.2431 -  - ETA: 17s - loss: 0.9389 - acc: 0.7418 - f1_m: 0.3686 - precision_m: 0.2431 - recall_m:  - ETA: 17s - loss: 0.9389 - acc: 0.7418 - f1_m: 0.3686 - precision_m: 0.243 - ETA: 17 - ETA: 15s - loss: 0.9389 - acc: 0.7419  - ETA: 6s - loss: 0.9388 - acc: 0.7419 - f1_m: 0.3684 - precision_m: 0.2430 - recall_m: 0 - ETA: 6s - loss: 0.9388 - acc: 0.7419 - f1_m: 0.3684 - precision_m: 0.2430 - recall_m: 0.7 - ETA: 6s - loss: 0.9388 - acc: 0.7419 - f1_m: 0.3685 - precision_m: 0.2430 - recall_m: 0.77 - ETA: 5s - loss: 0.9388 - acc: 0.7419 - f1_m: 0. - ETA: 3s - loss: 0.9386 - acc: 0.7420 - f1_m: 0.3684 - precision_m: 0.2430 - re - ETA: 2s - loss: 0.9386 - acc: 0.7420 - f1_m: 0.3684 - precision_m: 0.2430 - rec - ETA: 2s - loss: 0.9386 - acc: 0.7420 - f1_m: 0.3684 - precision_m: 0. - ETA: 1s - loss: 0.9388 - acc: 0.7419 - f1_m: 0.3684 - precision_m: 0.2430 - recall_m:  - ETA: 0s - loss: 0.9388 - acc: 0.7419 - f1_m: 0.3684 - precision_m: 0.2430 - recall_m: 0 - ETA: 0s - loss: 0.9388 - acc: 0.7419 - f1_m: 0.3684 - precision_m: 0.2430 - recall_m\n",
      "Epoch 17/50\n"
     ]
    },
    {
     "name": "stdout",
     "output_type": "stream",
     "text": [
      "3262464/5402595 [=================>............] - ETA: 1:01 - loss: 0.9389 - acc: 0.7420 - f1_m: 0.3690 - precision_m: 0.2434 - recall_m: 0.7730- ETA: 2:23 - loss: 0.9445 - acc: 0.7412 - f1_m: 0.3671 - precision_m: 0.2425 - recall_m: 0.76 - ETA: 2:29 - loss: 0.9445 - acc: 0.7409 - f1_m: 0.3671 - pr - ETA: 2:31 - loss: 0.9440 - acc: 0.7417 - f1_m: 0.3685 - precision_m: 0.2435 - recall_m: 0.77 - ETA: 2:31 - loss: 0.9441 - acc: 0.7417 - f1_m: 0.3688 - precis - ETA: 2:24 - loss: 0.9420 - acc: 0.7420 - f1_m: 0.3711 - precision_m:  - ETA: 2:10 - loss: 0.9393 - acc: 0.7415 - f1_m: 0.3696 - precision_m: 0.2440 - recall_m: 0 - ETA: 2:09 - loss: 0.9397 - acc: 0.7415 - f1_m: 0.3697 - precision_m: 0.2441 - recall_m: - ETA: 2:08 - loss: 0.9404 - acc: 0.7411 - f1_m: 0.3695 - precision_m: 0.2439 - recall_m: 0 - ETA: 2:08 - loss: 0.9404 - acc: 0.7410 - f1_m: 0.3695 - precision_m: 0.2439 - recall_m:  - ETA: 2:07 - loss: 0.9400 - acc: 0.7411 - f1_m: 0.3699 - precision_m: 0.2441 - recall - ETA: 2:06 - loss: 0.9396 - acc: 0 - ETA: 2:03 - loss: 0.9404 - acc: 0.7405 - f1_m: 0.3687 - preci - ETA: 2:01 - loss: 0.9399 - acc: 0.7408 - f1_m: 0.3689 - precision_m: 0.2433 - recall_m: 0.77 - ETA: 2:01 - loss: 0.9400 - acc: 0.7409 - f1_m: 0.369 - ETA: 1:57 - loss: 0.9406 - acc: 0.7407 - f1_m: 0.3688 - precision_m: 0.2432 - recall_m: 0.773 - ETA: 1:57 - loss: 0.9406 - acc: 0.7407 - f1_m: 0.3688 - precision_m: 0.2432 - recall_m: 0.77 - ETA: 1:57 - loss: 0.9408 - acc: 0.7406 - f1_m: 0.3688 - precision_m: 0.2432 - rec - ETA: 1:57 - loss: 0.9413 - acc: 0.7403 - f1_m: 0.3688 - precision_m: 0.2432 - recall_m: 0.774 - ETA: 1:57 - loss: 0.9412 - acc: 0.7403 - f1_m: 0.3688 - precision_m: 0.2432 - recall_m: 0.7 - ETA: 1:58 - loss: 0.9413 - acc: 0.7403 - f1_m: 0.3688 - precision_m: 0. - ETA: 1:57 - loss: 0.9413 - acc: 0.7401 - f1_m - ETA: 1:53 - loss: 0.9415 - acc - ETA: 1:50 - loss: 0.9412 - acc: 0.7398 - f1_m - ETA: 1:47 - loss: 0.9409 - acc: 0.7400 - f1_m: 0.3687 - precision_m: 0.2431 - recall_m - ETA: 1:47 - ETA: 1:41 - loss: 0.9403 - acc: 0.7404 - f1_m: 0.3687 - precision_m: 0.2430 - recall_m: 0. - ETA: 1:41 - loss: 0.9406 - acc: 0.7403 - f1_m: 0.3687 - precision_m: 0.2430 - recall_m: 0.77 - ETA: 1:41 - loss: 0.9406 - acc: 0.7403 - f1_m: 0.3687 - precision_m: 0.2430 - reca - ETA: 1:41 - loss: 0.9401 - acc: 0.7404 - f1_m: 0.3688 - precision_m: 0.2431 - re - ETA: 1:40 - loss: 0.9397 - acc: 0.7405 - f - ETA: 1:36 - loss: 0.9396 - acc: 0.7410 - f1_m: 0.3687 - precision_m: 0.2431 - - ETA: 1:35 - loss: 0.9397 - acc: 0.7410 - f1_m: 0.3686 - precision_m: 0.2430 - recall_m: 0.7 - ETA: 1:36 - loss: 0.9396 - acc: 0.7411 - f1_m: 0.3686 - precision_m: 0.2431 - recall_m: 0. - ETA: 1:36 - loss: 0.9395 - acc: 0.7411 - f1_m: 0.3687 - precisio - ETA: 1:34 - loss: 0.9385 - acc: 0.7416 - f1_m: 0.3690 - precision_m: 0.2 - ETA: 1:32 - loss: 0.9388 - acc: 0.7414 - f1_m: 0.3690  - ETA: 1:30 - loss: 0.9387 - acc: 0.7416 - f1_m: 0.3689 - precision_m: 0.2433 - recall_m: 0.7 - ETA: 1:30 - loss: 0.9386 - acc: 0.7416 - f1_m: 0.3689 - precision_m: 0.2433 - recall_m: 0.77 - ETA: 1:30 - loss: 0.9386 - acc: 0.7416 - f1_m: 0.3689 - precision_m:  - ETA: 1:29 - loss: 0.9383 - acc: 0.7418 - f1_m: 0.3689 - precision_m: 0.2433 - ETA: 1:28 - loss: 0.9381 - acc: 0.7420 - f1_m: 0.3690 - precis - ETA: 1:26 - loss: 0.9382 - acc: 0.7420 - f1_m: 0.3689 - precision_m: 0.243 - ETA: 1:25 - loss: 0.9384 - acc: 0.7419 - f1_m: 0. - ETA: 1:23 - loss: 0.9384 - acc: 0.7418 - f1_m: 0.3690 - precision_m: 0.2434 - recal - ETA: 1:22 - loss: 0.9385 - acc: 0.7417 - f1_m: 0.3690 - precision_m: 0.2434 - recall_m:  - ETA: 1:22 - loss: 0.9384 - acc: 0.7418 - f1_m: 0.3690 - pre - ETA: 1:20 - loss: 0.9384 - acc: 0.7419 - f1_m: 0.3690 - precision_m: 0.2434 - recall_m: 0.77 - ETA: 1:20 - loss: 0.9384 - acc: 0.7419 - f1_m: 0.3690 - precision_m: 0.2434 - re - ETA: 1:20 - loss: 0.9384 - acc: 0.7419 - f1_m: 0.3691 - precision_m: 0.2435 -  - ETA: 1:19 - loss: 0.9385 - acc: 0.7419 - f1_m: 0.3691 - precision_m: 0.2435 - recal - ETA: 1:18 - loss: 0.9387 - acc: 0.7419 - f1_m: 0.3691 - precision_m: 0.2435 - recall_ - ETA: 1:18 - loss: 0.9387 - acc: 0.7418 - f1_m: 0.3691 - precision_m: 0.2435 - recall_m: 0.773 - ETA: 1:18 - loss: 0.9386 - acc: 0.7418 - f1_m: 0.3691 - precision_m: 0.2435 - recal - ETA: 1:17 - loss: 0.9387 - acc: 0.7419 - f1_m: 0.3692 - precision_m: 0.2436 - recall_m: 0. - ETA: 1:17 - loss: 0.9387 - acc: 0.7419 - f1_m: 0.3692 - precision_m: 0.2436 - recall_m - ETA: 1:17 - loss: 0.9389 - acc: 0.7418 - f1_m: 0.3692 - precision_m: 0.2435 - recal - ETA: 1:16 - loss: 0.9390 - acc: 0.7418 - f1_m: 0.3691 - precision_m: 0.2435 - recall_m: 0. - ETA: 1:16 - loss: 0.9390 - acc: 0.7418 - f1_m: 0.3691 - precision_m: 0.2435 - - ETA: 1:16 - loss: 0.9392 - acc: 0.7418 - f1_m: 0.3692 - precision_m: 0.2435 - recall - ETA: 1:15 - loss: 0.9392 - acc: 0.7417 - f1_m: 0.3692 - precision_m: 0.2435 - recall_m: 0 - ETA: 1:15 - loss: 0.9392 - acc: 0.7417 - f1_m: 0.3692 - precision_m:  - ETA: 1:14 - loss: 0.9390 - acc: 0.7419 - f1_m: 0.3692 - precision_m: 0.2436 - recall_m: 0.77 - ETA: 1:14 - loss: 0.9390 - acc: 0.7419 - f1_m: 0.3692 - precision_m: 0.2436 - recall_m: 0.773 - ETA: 1:14 - loss: 0.9390 - acc: 0.7419 - f1_m: 0.3693 - precision_m: 0.2436 - recall_m: 0.77 - ETA: 1:14 - loss: 0.9391 - acc: 0.7419 - f1_m: 0.3693 - precision_m: 0.24 - ETA: 1:13 - loss: 0.9390 - acc: 0.7419 - f1_m: 0 - ETA: 1:11 - loss: 0.9390 - acc: 0.7418 - f1_m: 0.3692 - ETA: 1:09 - loss: 0.9390 - acc: 0.7418 - f1_m: 0.3692 - precision_m: 0.2435 - recall_m: 0.7 - ETA: 1:08 - loss: 0.9390 - acc: 0.7418 - f1_m: 0.3691 - precision_m: 0.24 - ETA: 1:08 - loss: 0.9390 - acc: 0.7418 - f1_m: 0.3691 - precision_m: 0.2435 - recall_ - ETA: 1:07 - loss: 0.9388 - acc: 0.7418 - f1_m: 0.3691 - precision_m: 0.2435 - recall_m: 0. - ETA: 1:07 - loss: 0.9389 - acc: 0.7419 - f1_m: 0.3691 - precision_m: 0.2435 - rec - ETA: 1:07 - loss: 0.9388 - acc: 0.7419 - f1_m: 0.3691 - precision_m: 0.2435 - recall_m: 0.773 - ETA: 1:07 - loss: 0.9389 - acc: 0.7419 - f1_m: 0.3691 - precision_m: 0.2435 - rec - ETA: 1:06 - loss: 0.9391 - acc: 0.7418 - f1_m: 0.3691 - precision_m: 0.2435 - recall_m: 0.77 - ETA: 1:06 - loss: 0.9391 - acc: 0.7418 - f1_m: 0.3691 - precision_m: 0.2434 - recall_ - ETA: 1:06 - loss: 0.9391 - acc: 0.7418 - f1_m: 0.3691 - precision_m: 0.2435 - recal - ETA: 1:06 - loss: 0.9391 - acc: 0.7418 - f1_m: 0.3691 - precision_m: 0. - ETA: 1:05 - loss: 0.9393 - acc: 0.7418 - f1_m: 0.3691 - precision_m: 0.2435 - rec - ETA: 1:04 - loss: 0.9395 - acc: 0.7417 - f1_m: 0.3690 - precision_m: 0.2434 - rec - ETA: 1:04 - loss: 0.9394 - acc: 0.7417 - f1_m: 0.3690 - precision_m: 0.2434 - recall_m: 0.773 - ETA: 1:04 - loss: 0.9395 - acc: 0.7417 - f1_m: 0.3690 - prec - ETA: 1:03 - loss: 0.9391 - acc: 0.7418 - f1_m: 0.3690 - precision_m: 0.2434 - recall_m: 0.7 - ETA: 1:03 - loss: 0.9391 - acc: 0.7418 - f1_m: 0.3690 - precision_m: 0.2434 - recall_m: 0.7 - ETA: 1:03 - loss: 0.9390 - acc: 0.7418 - - ETA: 1:02 - loss: 0.9389 - acc: 0.7419 - f1_m: 0.3691 - precision_m: 0.2434 - recall_m: 0.773 - ETA: 1:02 - loss: 0.9389 - acc: 0.7419 - f1_m: 0.3691 - precision_m: 0.2435 - recall_ - ETA: 1:02 - loss: 0.9389 - acc: 0.7419 - f1_m: 0.3690 - precision_m: 0.2434 - recall_m: 0 - ETA: 1:02 - loss: 0.9389 - acc: 0.7419 - f1_m: 0.3690 - precision_m: 0.2434 - recall_m: - ETA: 1:02 - loss: 0.9389 - acc: 0.7419 - f1_m: 0.3690 - precision_m: 0.2434 - recall_m: 0.77 - ETA: 1:02 - loss: 0.9389 - acc: 0.7419 - f1_m: 0.3690 - precision_m: 0.2434 - recall_m: 0.773 - ETA: 1:02 - loss: 0.9389 - acc: 0.7419 - f1_m: 0.3690 - precision_m: 0.2434 - recall_m: 0. - ETA: 1:02 - loss: 0.9389 - acc: 0.7419 - f1_m: 0.3690 - precision_m: 0.2434 - reca - ETA: 1:02 - loss: 0.9389 - acc: 0.7419 - f1_m: 0.3690 - precision_m: 0.2434 - recal - ETA: 1:02 - loss: 0.9390 - acc: 0.7419 - f1_m: 0.3690 - precision_m: 0.2434 - recall_m: 0.7 - ETA: 1:02 - loss: 0.9389 - acc: 0.7419 - f1_m: 0.3690 - precision_m: 0.2434 - ETA: 1:01 - loss: 0.9388 - acc: 0.7420 - f1_m: 0.3689 - precision_m: 0.2434 - recall_m: 0.7 - ETA: 1:01 - loss: 0.9389 - acc: 0.7420 - f1_m: 0.3690 - precision_m: 0.2434 - recall_m: 0.773 - ETA: 1:01 - loss: 0.9389 - acc: 0.7420 - f1_m: 0.3690 - precision_m: 0.2434 - recall_m: 0.7730"
     ]
    },
    {
     "name": "stdout",
     "output_type": "stream",
     "text": [
      "5402595/5402595 [==============================] - 168s 31us/step - loss: 0.9388 - acc: 0.7418 - f1_m: 0.3683 - precision_m: 0.2429 - recall_m: 0.7723 - val_loss: 0.9372 - val_acc: 0.7462 - val_f1_m: 0.3696 - val_precision_m: 0.2445 - val_recall_m: 0.7668s - loss: 0.9395 - acc: 0.7417 - f1_m: 0.368 - ETA: 52s - loss: 0. - ETA: 51s - loss: 0.9394 - acc: 0.7417 - f1_m: 0.3685 - precision_m: 0.2430 - re - ETA: 50s - loss: 0.9394 - acc: 0.7417 - f1_m: 0.3685 - precision_m: 0.2430 - recall_m: 0. - ETA: 50s - loss: 0.9394 - acc: 0.7417 - f1_m: 0.3685 - precisio - ETA: 49s - loss: 0.9394 - acc: 0.7417 - f1_m: 0.3684 - precision_m: 0.2430 - recall_m: 0. - ETA: 49s - loss: 0.9394 - acc: 0.7417 - f1_m: 0.3685 - precision_m: 0.2430 - recall_m: 0. - ETA: 49s - loss: 0.9394 - acc: 0.7417 - f1_m: 0.3685 - prec - ETA: 49s - loss: 0.9392 - acc: 0.7418 - f1_m: 0.3685 - precision_m: - ETA: 48s - loss: 0.9394 - acc: 0.7417 - f1_m: 0.3685 - pr - ETA: 48s - loss: 0.9393 - acc: 0.7417 - f1_m: 0.3685 - precision_m: 0.243 - ETA: 47s - loss: 0.9393 - acc: 0.7417 - f1_m: 0.3685 - precision_m: 0.2430 - recall - ETA: 47s - loss: 0.9394 - a - ETA: 46s - loss: 0.9393 - acc: 0.7418 - f1_m: 0.3686 - precision_ - ETA: 45s - loss: 0.9394 - acc: 0.7418 - f1_m: 0.3686 - precision_m: 0.2431 - recall_m - ETA: 45s - loss: 0.9394 - acc: 0.7418 - f1_m: 0.3686 - precision_m: 0.2431 - reca - ETA: 45s - loss: 0.9394 - acc: 0.7418 - f1_m: 0.3686 - precis - - ETA: 25s - loss: 0.9392 - acc: 0.7418 - f1_m: 0.368 - ETA: 24s - loss: 0.9392 - acc: 0.7417 - f1_m: 0.3683 - precisio - ETA: 23s - loss: 0.9391 - acc: 0.7418 - f1_ - ETA: 22s - loss: 0.9392 - acc - ETA: 17s  - ETA: 12s - loss: 0.9390 - acc: 0.7418 - f1_m: 0.3682 - precisio - ETA: 12s - loss: 0.9390 - acc: 0.7418 - f1_m: 0.3 - ETA: 11s - loss: 0.9389 - acc: 0.7418 - f1_m: 0.3682 - precision_m: 0.2428 - recall_m: 0. - ETA: 10s - loss: 0.9389 - acc: 0.7418 - f1_m: 0.3682 - pr - ETA: 9s - loss: 0.9389 - acc: 0.7418 - f1_m: 0.3683 - precision_m:  - ETA: 8s - loss: 0.9389 - acc: 0.7418 - f1_m: 0.3683 - precision_m: 0.2429 - recall_ - ETA: 8s - loss: 0.9389 - acc: 0.7418 - f\n",
      "Epoch 18/50\n"
     ]
    },
    {
     "name": "stdout",
     "output_type": "stream",
     "text": [
      "5402595/5402595 [==============================] - 154s 28us/step - loss: 0.9388 - acc: 0.7416 - f1_m: 0.3682 - precision_m: 0.2428 - recall_m: 0.7722 - val_loss: 0.9371 - val_acc: 0.7430 - val_f1_m: 0.3679 - val_precision_m: 0.2426 - val_recall_m: 0.77049352 - acc: 0.7414 - f1_m: 0.3709 - precision_m: 0.2444 - recall_m: 0.7 - ETA: 3:43 - loss: 0.9338 - acc: 0.7417 - f1_m: 0.3716 - precision_m: 0.2448 - recall_m: 0. - ETA: 3:43 - loss: 0.9349 - acc: 0.7427 - f1_m: 0.3727 -  - ETA: 3:23 - loss: 0.9350 - acc: 0.7440 - f1_m: 0.3717 - precision_m: 0.2455 - recall_m: 0.7 - ETA: 3:23 - loss: 0.9350 - acc: 0.7440 - f1_m: 0.3721 - precis - ETA: 3:09 - loss: 0.9362 - acc: 0.7431 - f1_m: 0.3717 - precision_m: 0.2455 - recall_m: - ETA: 3:07 - loss: 0.9342 - acc: - ETA: 2:47 - loss: 0.9391 - acc: 0.7414 -  - ETA: 2:35 - loss: 0.9397 - acc: 0.7402 - f1_m: 0.3699 - precision_m: 0.2439 - recall_m: 0. - ETA: 2:35 - loss: 0.9396 - acc: 0.7403 - f1_m: 0.3701 - precision_m: 0.2441 - recall_m: - ETA: 2:33 - loss: 0.9403 - acc: 0.7404 - f1_m: 0.3701 - precision - ETA: 2:31 - loss: 0.9412 - acc: 0.7398 - f1_m: 0.3700 - precis - ETA: 2:26 - loss: 0.9418 - acc: 0.7400 - f1_m: 0.3693 - precision_m: 0.2435 - recall_m: 0.775 - ETA: 2:26 - loss: 0.9418 - acc: 0.7399 - f1_m: 0.3694 - - ETA: 2:21 - loss: 0.9401 - acc: 0.7409 - f1_m: 0.3697 - precision_m: 0.2438 - recall_m - ETA: 2:20 - loss: 0.9395 - acc: 0.7412 - f1_m: 0.3697 - precision_m: 0.24 - ETA: 2:21 - loss: 0.9393 - acc: 0.7414 - f1_m: 0.3694 - precision_m: 0.2436 - recall_m: 0.77 - ETA: 2:21 - loss: 0.9394 - acc: 0.7414 - f1_m: 0.3695 - precision_m: 0.24 - ETA: 2:20 - loss: 0.9388 - acc: 0.7415 - f1_m: 0.3694 - precision_m: 0.2436 - recall_ - ETA: 2:20 - loss: 0.9385 - acc: 0.7417 - f1_m: 0.3694 - precision_m: 0.2437 - recall - ETA: 2:20 - loss: 0.9386 - acc: 0.7417 - f1_m: 0.3693 - precision_m: 0.2436 - r - ETA: 2:19 - loss: 0.9393 - acc: 0.7416 - f1_m: 0.3693 - precision_m: 0.2436  - ETA: 2:16 - loss: 0.9383 - acc: 0.7419 - f1_m: 0.3694 - precision_m: 0.2436 - recall_m: 0.7 - ETA: 2:16 - loss: 0.9380 - acc: 0.7420 - f1_m: 0.3693 - precision_m: 0.24 - ETA: 2:13 - loss: 0.9389 - acc: 0.7419 - f1_m: 0.3692 - precision_ - ETA: 2:10 - loss: 0.9383 - acc: 0.7423 - f1_m: 0.3699 - precision_m: 0.2441 - recall_m: 0 - ETA: 2:10 - loss: 0.9380 - acc: 0.7424 - f1_m: 0.3699 - precision_m: 0.2440 - recall_m: 0 - ETA: 2:09 - loss: 0.9377 - acc: 0.7425 - f1_m: 0.3699 - precis - ETA: 2:06 - loss: 0.9380 - acc: 0.7422 - f1_m: 0.3697 - precision_m: 0.2439 - r - ETA: 2:04 - loss: 0.9377 - acc: 0.7423 - f1_m: 0.3699 - precision_m: 0.2440 - recall_m: 0 - ETA: 2:04 - loss: 0.9378 - acc: 0 - ETA: 1:58 - loss: 0.9381 - acc: 0.7422 - f1_m: 0.3700 - precision_m: 0.2441 - rec - ETA: 1:57 - loss: 0.9377 - acc: 0.7424 - f1_m: 0.3700 - precision_m: 0.2442 - recall_m: 0.774 - ETA: 1:57 - loss: 0.9377 - acc: 0.7424 - f1_m: 0.3701 - precision_m: 0.2442 - recall_m: 0.77 - ETA: 1:57 - loss: 0.9378 - acc: 0.7424 - f1_m: 0.3701 - precision_m: 0.2442 - recall_m: 0 - ETA: 1:57 - loss: 0.9378 - acc: 0.7424 - f1_m: 0.3701 - precision_m: 0.2442 - recall_m: 0.77 - ETA: 1:57 - loss: 0.9378 - acc: 0.7424 - f1_m: 0.3700 - precision_m: 0.2442 - recall_m: - ETA: 1:57 - loss: 0.9378 - acc: 0.7423 - f1_m: 0.3700 - precision_m: 0.2441 - recall_m: 0.77 - ETA: 1:57 - loss: 0.9378 -  - ETA: 1:53 - loss: 0.9382 - acc: 0.7420 - f1_m: 0.3701 - precision_m: 0.2441 - recall_m: 0.7 - ETA: 1:53 - loss: 0.9382 - acc: 0.7419 - f1_m: 0.3699 - precision_m: 0.2440 - r - ETA: 1:53 - loss: 0.9379 - acc: 0.7422 - f1_m: 0.3699 - precision_m: 0.2441 - recall_m - ETA: 1:52 - loss: 0.9382 - acc: 0.7421 - f1_m: 0.3699 - precision_m: 0.2441 - recall_m: 0 - ETA - ETA: 1:24 - loss: 0.9384 - acc: 0.7422 - f1_m: 0.3693 - precision_m: 0 - ETA: 1:22 - loss: 0.9383 - acc: 0.7422 - f1_m: 0.3694 - precision_m: 0.2438 - recall - ETA: 1:22 - loss: 0.9385 - acc: 0.7422 - f1_m: 0.3694 - precision_m: 0.2438 - recall_m:  - ETA: 1:22 - loss: 0.9385 - acc: 0.7421 - f1_m: 0.3694 - precision_m: 0.2437 - recall_m: 0 - ETA: 1:22 - loss: 0.9385 - acc: 0.7421 - f1_m: 0.3693 - precision_m: 0.2437 - recall_m: 0.7 - ETA: 1:22 - loss: 0.9385 - acc: 0.7421 - f1_m: 0.3694 - precision_m: 0.2437 - recall_ - ETA: 1:22 - loss: 0.9386 - acc: 0.7421 - f1_m: 0.3693 - precision_m: 0.2436 - recall_m: 0.772 - ETA: 1:22 - loss: 0.9386 - acc: 0.7421 - f1_m: 0.3693 - precision_m:  - ETA: 1:21 - loss: 0.9386 - acc: 0.7421 - f1_m: 0.3693 - pre - ETA: 1:19 - loss: 0.9389 - acc: 0.7420 - f1_m: 0.3691 - precision_m: 0. - ETA: 1:18 - loss: 0.9388 - acc: 0.7420 - f1_m: 0.3691 - precision_m: 0.2435 - recall_m: 0.772 - ETA: 1:18 - loss: 0.9388 - acc: 0.7420 - f1_m: 0.3691 - precision_m: 0.2435 - recall_ - ETA: 1:17 - loss: 0.9389 - acc: 0.7419 - f1_m: 0.3691 - prec - ETA: 1:15 - loss: 0.9392 - acc: 0.7418 - f1_m: 0.3690 - precisio - ETA: 1:13 - loss: 0.9389 - acc: 0.7420 - f1_m: 0.3690 - precision_m: 0.2434 - recal - ETA: 1:12 - loss: 0.9388 - acc: 0.7420 - f1_m: 0.3689 - precisi - ETA: 1:03 - loss: 0.9390 - acc: 0.7418 - f1_m: 0.3686 - precision_m: 0.2431 - re - ETA: 1:02 - loss: 0.9391 - acc: 0.7417 - f1_m: 0.3685 - precision_m: 0.2431 - recall_m: 0.7 - ETA: 1:02 - loss: 0.9392 - acc: 0.7417 - f1_m: 0.3685 - precision_m: 0.2431 - re - ETA: 1:01 - loss: 0.9391 - acc: 0.7417 - f1_m: 0.3686 - precision_m: 0.2431  - ETA: 1:00 - loss: 0.9391 - acc: 0.7417 - f1_m: 0.3685 - precision_ - ETA: 56s - loss: 0.9390 - acc: 0.7418 - f1_m: 0.3684 - precision_m: 0.2430 - recall_m: 0. - ETA: 56s - loss: 0.9390 - acc: 0.7418 - f1_m: 0.3684 - precision_ - ETA: 56s - loss: 0.9390 - acc: 0.7418 - f1_m: 0.3685 - precision_m: 0.2430 -  - ETA: 55s - loss: 0.9391 - acc: 0.7417 - f1_m: 0.3684 - precision_m: - ETA: 55s - loss: 0.9390 - acc: 0.7417 - f1_m: 0.3683 - precision_m: 0.2430 - recall_m: 0. - ETA: 55s - loss: 0.9390 - acc: 0.7418 - f1_m: 0.3683 - precision_m: 0.243 - ETA: 54s - loss: 0.9390 - acc: 0.7417 - f1_m: 0.3683 - precision_m: 0.2429 - recall_m: 0.77 - ETA: 54s - loss: 0.9390 - acc: 0.7417 - f1_m: 0.3683 - pr - ETA: 53s - loss: 0.9389 - acc:  - ETA: 52s - loss: 0.9389 - acc: 0.7417 - f1_m: 0.3683 - prec - ETA: 51s - loss: 0.9388 - acc: 0.7417 - f1_m: 0.3682 - precisio - ETA: 51s - loss: 0.9388 - acc: 0.7416 - f1_m: 0.3683 - precision_m: 0.2429 - recall_m: 0.77 - ETA: 51s - loss: 0.9388 - a - ETA: 29s - loss: 0.9391 - acc: 0.7414 - f1_m: 0.3683 - precision_m: 0.2429 - recall - ETA: 29s - loss: 0.9391 - acc: 0.7414 - f1_m: 0.3684 - precision_m: 0.2429  - ETA: 28s - loss: 0.9392 - acc: 0.7414 - f1_m: 0.3683 - precision_m: - ETA: 20s - loss: 0.9387 - acc: 0.7415 - f1_m: 0.3683 - pr - ETA: 19s - loss: 0.9388 - acc: 0.7415 - f1_m: 0.3683 - precision_m: 0.2429 - reca - ETA: 19s - loss: 0.9388 - acc: 0.7414 - f1_m: 0.3683 - precision_m: 0.2429 -  - ETA: 16s - loss: 0.9389 - acc: 0.7414 - f1_m: 0.3684 - precision_m: 0.242 - ETA: 15s - loss: 0.9389 - acc: 0.7414 - f1_m: 0.3683 - precision_m: - ETA: 15s - loss: 0.9390 - acc: 0.7414 - f1_m: 0.3683 - precision_m: 0.2429 -  - ETA: 14s - loss: 0.9390 - acc: 0.7414 - f1_m: 0.3683 - precision_m: 0.2429 -  - ETA: 14s - loss - ETA: 12s - loss: 0.9388 - acc - ETA: 10s - loss: 0.9389 - acc: 0.7415 - f1_m: 0 - ETA: 8s - loss: 0.9389 - acc: 0.7415 - f1_ - ETA: 5s - loss: 0.9389 - acc: 0.7416 - f1_m: 0.3682 - precision_m: 0.2428 - recall_m: 0.772 - ETA: 5s - loss: 0.9389 - acc: 0.7416 - f1_m:  - ETA: 1s - loss: 0.9388 - acc: 0.7416 - f1_m: 0.3682 - precision_m: 0.\n",
      "Epoch 19/50\n"
     ]
    },
    {
     "name": "stdout",
     "output_type": "stream",
     "text": [
      "5402595/5402595 [==============================] - 156s 29us/step - loss: 0.9388 - acc: 0.7419 - f1_m: 0.3682 - precision_m: 0.2429 - recall_m: 0.7716 - val_loss: 0.9373 - val_acc: 0.7436 - val_f1_m: 0.3680 - val_precision_m: 0.2428 - val_recall_m: 0.7691all_m: 0.76 - ETA: 2:12 - loss: 0.9418 - acc: 0.7422 - f1_m: 0.3675 - precision_m: 0.2426 - rec - ETA: 2:09 - loss: 0. - ETA: 2:00 - loss: 0.9405 - acc: 0.7417 - f1_m: 0.3680  - ETA: 2:11 - loss: 0.9393 - acc: 0.7422 - f1_m: 0.3677 - precision_m: 0.2426 - recall_m: 0.77 - ETA: 2:12 - loss: 0.9395 - acc: 0.7423 - f1_m: 0.3677 - precision_m: 0.2426 - rec - ETA: 2:16 - loss: 0.9400 - acc: 0.7419 - f1_m: 0.3673 - precision_m: 0.2423 - recall_m: - ETA: 2:18 - loss: 0.9397 - acc: 0.7422 - f1_m: 0.3676 - precision_m: 0.2426 - recall_ - ETA: 2:21 - loss: 0.9394 - acc: 0.7421 - f1_m: 0.367 - ETA: 2:39 - loss: 0.9379 - acc: 0.7435 - f1_m: 0.3684 - precision_m: 0.2432 - recall_m: 0.770 - ETA: 2:39 - loss: 0.9380 - acc: 0.7435 - f1_m: 0.3683 - precision_m: 0.2432 - recal - ETA: 2:40 - loss: 0.9378 - acc: 0.7434 - ETA: 2:30 - loss: 0.9390 - acc: 0.7432 - f1_m: 0.3688 - preci - ETA: 30s - loss: 0.9381 - acc: 0.7423 - f1_m: 0.3685 - precision_m: 0.2431  - ETA: 29s - loss: 0.9381 - acc: 0.7423 - f1_m: 0.3685 - precision_m: 0.2431 - recall_m:  - ETA: 29s - loss: 0.9381 - acc: 0.7423 - f1_m: 0.3685 - precision_m: 0.2431 - recall_m:  - ETA: 29s - loss - ETA: 28s - loss: 0.9383 - acc: 0.7423 - f1_m: 0.3685 - precision_ - ETA: 27s - loss: 0.9383 - acc: 0.7422 - f1_m: 0.3685 - precision_m: - ETA: 26s - loss: 0.9383 - acc: 0.7422 - f1_m: 0.3685 - precision_ - ETA: 26s - loss: 0.9383 - acc: 0.7422 - f1_m: 0.3684 - precisio - ETA: 25s - loss: 0.9383 - acc: 0.7422 - f1_m: 0.3684 - precision_m: 0.243 - ETA: 25s - loss: 0.9383 - acc: 0.7421 - f1_m: 0.3684 - precision_m: 0.2431 - recall_m: 0. - ETA: 25s - loss: 0.9383 - acc: 0.7421 - f1_m: 0.3684 - precision_m: 0.2431 - recall_m:  - ETA: 25s - loss: 0.9383 - acc - ETA: 23s - loss: 0.9382 - acc: 0.7422 - f1_m: 0.3684 - precision_m: 0.2 - ETA: 23s - loss: 0.9382 - acc: 0.7422 - f1_m: 0.3684 - precision_m: 0.2430 - recall_m:  - ETA: 23s - loss: 0.93 - ETA: 21s - loss: 0.9383 - acc: 0.7421 - f1_m: 0.3683 - precision_m: 0.2430 - re - ETA: 21s - loss: 0.9383 - acc: 0.7421 - f1_m: 0.3683 - precision_m: 0.2430 - recall_m:  - ETA: 21s - loss: 0.9384 - acc: 0.7421 - f1_m: 0.3683 - prec - ETA: 8s - loss: 0.9386 - acc: 0.7421 - f1_m: 0.3683 - precision_m: 0.2430 - recall_m: 0 - ETA: 8s - loss: 0.9386 - acc: 0.7421 - f1_m: 0.3683 - precision_m: 0.2430 - recall - ETA: 7s - loss: 0.9387 - acc: 0.7420 - f1_m: 0.3683 - precision_m: 0.2430 -  - ETA: 7s - loss: 0.9387 - acc: 0.7420 - f1_m: 0.3683 - precision_m: 0.2430 - recall_m: 0.77 - ETA: 7s - loss: 0.9387 - a - ETA: 3s - loss: 0.9388 - acc: 0.7420 - f1_m: 0.3683 - precision_m: 0.2430 - r - ETA: 2s - loss: 0.9388 - acc: 0.7420 - f1_m: 0.3683 - precisi - ETA: 1s - loss: 0.9389 - acc: 0.7419 - f1_m: 0.3682 - precision_m: 0.2429 - recall_m: 0 - ETA: 1s - loss: 0.9389 - acc: 0.7419 - f1_m: 0.3682 - precision_m: 0.2429 \n",
      "Wall time: 45min 43s\n"
     ]
    },
    {
     "data": {
      "text/plain": [
       "<keras.callbacks.History at 0x205ac767da0>"
      ]
     },
     "execution_count": 27,
     "metadata": {},
     "output_type": "execute_result"
    }
   ],
   "source": [
    "%%time\n",
    "# fit the model\n",
    "classifier.fit(X_train_sc, y_train, epochs=50, batch_size=512, validation_split=0.15, verbose=1,class_weight= {0:1, 1:10},\n",
    "          callbacks = [history, keras.callbacks.EarlyStopping(monitor='val_loss',\n",
    "                                                              min_delta=0, patience=10, verbose=0, mode='auto')])"
   ]
  },
  {
   "cell_type": "code",
   "execution_count": 28,
   "metadata": {},
   "outputs": [
    {
     "name": "stdout",
     "output_type": "stream",
     "text": [
      "6355995/6355995 [==============================] - 349s 55us/step\n",
      "loss:  0.5154577062432066 and Accuracy:  0.7443995786654586\n"
     ]
    }
   ],
   "source": [
    "eval_model=classifier.evaluate(X_train_sc, y_train)\n",
    "print('loss: ', eval_model[0], 'and Accuracy: ', eval_model[1])"
   ]
  },
  {
   "cell_type": "code",
   "execution_count": 29,
   "metadata": {},
   "outputs": [
    {
     "data": {
      "text/plain": [
       "Text(0.5, 1.0, 'Loss')"
      ]
     },
     "execution_count": 29,
     "metadata": {},
     "output_type": "execute_result"
    },
    {
     "data": {
      "image/png": "[encoded data removed]",
      "text/plain": [
       "<Figure size 720x288 with 2 Axes>"
      ]
     },
     "metadata": {
      "needs_background": "light"
     },
     "output_type": "display_data"
    }
   ],
   "source": [
    "fig, ax = plt.subplots(nrows = 1, ncols = 2, figsize = (10, 4))\n",
    "\n",
    "# Accuracy\n",
    "ax[0].plot(history.history['acc'])\n",
    "ax[0].plot(history.history['val_acc'])\n",
    "ax[0].set_ylabel('Accuracy')\n",
    "ax[0].set_xlabel('# Epoch')\n",
    "ax[0].legend(['train', 'test'], loc='upper left')\n",
    "ax[0].set_title('Accuracy')\n",
    "\n",
    "# Loss\n",
    "ax[1].plot(history.history['loss'])\n",
    "ax[1].plot(history.history['val_loss'])\n",
    "ax[1].set_ylabel('Loss')\n",
    "ax[1].set_xlabel('# Epoch')\n",
    "ax[1].legend(['train', 'test'], loc='upper left')\n",
    "ax[1].set_title('Loss')"
   ]
  },
  {
   "cell_type": "code",
   "execution_count": 30,
   "metadata": {},
   "outputs": [
    {
     "name": "stdout",
     "output_type": "stream",
     "text": [
      "\n",
      " Classification report : \n",
      "               precision    recall  f1-score   support\n",
      "\n",
      "         0.0       0.97      0.74      0.84   1911460\n",
      "         1.0       0.24      0.77      0.37    207206\n",
      "\n",
      "    accuracy                           0.74   2118666\n",
      "   macro avg       0.61      0.75      0.60   2118666\n",
      "weighted avg       0.90      0.74      0.79   2118666\n",
      "\n",
      "Accuracy   Score :  0.744371694264221\n",
      "F1 Score:  0.3699125936973925\n",
      "Area under curve :  0.834558224044478 \n",
      "\n"
     ]
    },
    {
     "data": {
      "image/png": "[encoded data removed]",
      "text/plain": [
       "<Figure size 864x864 with 3 Axes>"
      ]
     },
     "metadata": {
      "needs_background": "light"
     },
     "output_type": "display_data"
    }
   ],
   "source": [
    "probabilities = classifier.predict_proba(X_test_sc)\n",
    "predictions = classifier.predict_classes(X_test_sc)\n",
    "\n",
    "print (\"\\n Classification report : \\n\",classification_report(y_test, predictions))\n",
    "print (\"Accuracy   Score : \",accuracy_score(y_test, predictions))\n",
    "\n",
    "#confusion matrix\n",
    "conf_matrix = confusion_matrix(y_test,predictions)\n",
    "plt.figure(figsize=(12,12))\n",
    "plt.subplot(221)\n",
    "sns.heatmap(conf_matrix, fmt = \"d\",annot=True, cmap='Blues')\n",
    "b, t = plt.ylim()\n",
    "plt.ylim(b + 0.5, t - 0.5)\n",
    "plt.title('Confuion Matrix')\n",
    "plt.ylabel('True Values')\n",
    "plt.xlabel('Predicted Values')\n",
    "\n",
    "#f1-score\n",
    "f1 = f1_score(y_test, predictions)\n",
    "print(\"F1 Score: \", f1)\n",
    "\n",
    "#roc_auc_score\n",
    "model_roc_auc = roc_auc_score(y_test,probabilities) \n",
    "print (\"Area under curve : \",model_roc_auc,\"\\n\")\n",
    "fpr,tpr,thresholds = roc_curve(y_test,probabilities)\n",
    "gmeans = np.sqrt(tpr * (1-fpr))\n",
    "ix = np.argmax(gmeans)\n",
    "threshold = np.round(thresholds[ix],3)\n",
    "\n",
    "plt.subplot(222)\n",
    "plt.plot(fpr, tpr, color='darkorange', lw=1, label = \"Auc : %.3f\" %model_roc_auc)\n",
    "plt.plot([0, 1], [0, 1], color='navy', lw=2, linestyle='--')\n",
    "plt.scatter(fpr[ix], tpr[ix], marker='o', color='black', label='Best Threshold:' + str(threshold))\n",
    "plt.xlim([0.0, 1.0])\n",
    "plt.ylim([0.0, 1.05])\n",
    "plt.xlabel('False Positive Rate')\n",
    "plt.ylabel('True Positive Rate')\n",
    "plt.title('Receiver operating characteristic')\n",
    "plt.legend(loc=\"lower right\")\n",
    "\n",
    "plt.show()"
   ]
  }
 ],
 "metadata": {
  "kernelspec": {
   "display_name": "Python 3",
   "language": "python",
   "name": "python3"
  },
  "language_info": {
   "codemirror_mode": {
    "name": "ipython",
    "version": 3
   },
   "file_extension": ".py",
   "mimetype": "text/x-python",
   "name": "python",
   "nbconvert_exporter": "python",
   "pygments_lexer": "ipython3",
   "version": "3.7.3"
  }
 },
 "nbformat": 4,
 "nbformat_minor": 2
}
